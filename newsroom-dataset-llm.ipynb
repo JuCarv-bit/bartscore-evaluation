{
 "cells": [
  {
   "cell_type": "code",
   "execution_count": null,
   "metadata": {
    "id": "alnLT_3J45rS"
   },
   "outputs": [],
   "source": [
    "import pickle\n",
    "\n",
    "with open('/content/BARTScore/SUM/Newsroom/data.pkl', 'rb') as f:\n",
    "    data = pickle.load(f)"
   ]
  },
  {
   "cell_type": "code",
   "execution_count": null,
   "metadata": {
    "colab": {
     "base_uri": "https://localhost:8080/"
    },
    "id": "v-BuIl6NeyiQ",
    "outputId": "d20b4e2a-caf5-4678-c426-152f3cb6e956"
   },
   "outputs": [
    {
     "name": "stdout",
     "output_type": "stream",
     "text": [
      "fatal: destination path 'BARTScore' already exists and is not an empty directory.\n"
     ]
    }
   ],
   "source": [
    "!git clone https://github.com/neulab/BARTScore.git"
   ]
  },
  {
   "cell_type": "code",
   "execution_count": null,
   "metadata": {
    "colab": {
     "base_uri": "https://localhost:8080/"
    },
    "id": "D7m-qXiT4_yj",
    "outputId": "0b17b9e1-618b-46c1-e439-8c890ed498b1"
   },
   "outputs": [
    {
     "data": {
      "text/plain": [
       "dict_keys(['2140', '7569', '30385', '2591', '1943', '8167', '10113', '7651', '2350', '31823', '9821', '30429', '7208', '10376', '7666', '9823', '30821', '9092', '10506', '32563', '6476', '6130', '8727', '10580', '34005', '8801', '5678', '5626', '10488', '144', '31425', '9912', '10623', '30117', '31059', '6578', '31788', '10062', '8607', '1807', '32146', '3829', '32202', '6726', '9642', '4003', '5926', '6638', '32716', '32670', '350', '8212', '6906', '33233', '6314', '9950', '34184', '171', '7118', '1295'])"
      ]
     },
     "execution_count": 8,
     "metadata": {},
     "output_type": "execute_result"
    }
   ],
   "source": [
    "data.keys()"
   ]
  },
  {
   "cell_type": "code",
   "execution_count": null,
   "metadata": {
    "colab": {
     "base_uri": "https://localhost:8080/"
    },
    "id": "1gF3Jy8t5WLo",
    "outputId": "8500bada-b921-4f87-85ba-04c62c69d60e"
   },
   "outputs": [
    {
     "data": {
      "text/plain": [
       "dict_keys(['src', 'ref_summ', 'sys_summs'])"
      ]
     },
     "execution_count": 9,
     "metadata": {},
     "output_type": "execute_result"
    }
   ],
   "source": [
    "data['2140'].keys()"
   ]
  },
  {
   "cell_type": "code",
   "execution_count": null,
   "metadata": {
    "colab": {
     "base_uri": "https://localhost:8080/",
     "height": 123
    },
    "id": "MXGCe49f5ihw",
    "outputId": "a75b8bf8-669d-4c5e-cc53-05ccb1058069"
   },
   "outputs": [
    {
     "data": {
      "application/vnd.google.colaboratory.intrinsic+json": {
       "type": "string"
      },
      "text/plain": [
       "\"A worker sets up a polling station the morning of the GOP primary in Florida . Fewer voters than expected turned out . Editor 's note : John Avlon is a CNN contributor and senior political columnist for Newsweek and The Daily Beast . He is co-editor of the book `` Deadline Artists : America 's Greatest Newspaper Columns . '' ( CNN ) -- Beneath Rick Santorum 's stunning three-state sweep on Tuesday stands another stubborn sign of dissatisfaction with the status quo : Republican turnout is down . I 'm talking embarrassingly , disturbingly , hey-don't-you-know-it's-an-election-year bad . It is a sign of a serious enthusiasm gap among the rank and file , and a particularly bad omen for Mitt Romney and the GOP in the general election . Here 's the tale of the tape , state by state , beginning with Tuesday night : Minnesota had just more than 47,000 people turn out for its caucuses this year -- four years ago it was nearly 63,000 -- and Romney came in first , not a distant third as he did Tuesday night . In Colorado , more than 70,000 people turned out for its caucus in 2008 -- but in 2012 it was 65,000 . And Missouri -- even making a generous discount for the fact that this was an entirely symbolic contest -- had 232,000 people turn out , less than half the number who did four years ago . Even with months of pre-primary hype and attention solely devoted to the Republican field , turnout in this election cycle essentially flat-lined . In Iowa , a little more than 121,000 people voted , compared with nearly 119,000 four years before , when action in the Democratic caucuses absorbed most of the attention . In New Hampshire , the same dynamic applied -- 245,000 voters turned out in 2012 , compared with 241,000 four years before , despite Republicans being the only game in town and independents making up 47 % of the total turnout in 2012 , according to CNN exit polls . Take out the independent voters and you 've got a deep net decline . Always proudly rebellious , South Carolina has been the great outlier in this election cycle . With Newt Gingrich making an all-out push for conservatives in a conservative state , turnout was up almost 150,000 over four years before . But in Florida , the decline became unmistakable . Maybe it decreased because the Romney and Gingrich campaigns , plus super PACS , spent more than $ 18 million in the Sunshine State on TV ads , of which 93 % were negative in the last week alone , according to the Campaign Media Analysis Group . After all , negative ads depress turnout . But after all the mud was thrown , 1.6 million people turned out in the nation 's fourth largest state , which might sound impressive until you compare it with the nearly 2 million who turned out in 2008 . Nevada was even worse , with 32,894 people turning out to vote in a state with more than 465,000 registered Republicans . Four years before , more than 44,300 participated in the caucus . Turnout was down more than 25 % despite the GOP caucuses being the only game in town . Party officials were expecting a turnout of more than 70,000 . All this should be a wake-up call for the GOP . Despite an enormous amount of national media attention devoted to each of the states to date , the response has been a notable yawn among the Republican rank and file . The turnout numbers are even worse when you compare them with the number of registered Republicans in each state that has voted to date . The caucuses in particular bring out an unrepresentative sample of a state 's Republican Party . For all the grass-roots romanticism , there has got to be a better way to pick a presidential nominee . But the news is worst for Romney , long the presumptive front-runner in a party that tends to reward the man next in line . `` Reluctantly Romney '' could be a bumper sticker , even for his supporters . The former Massachusetts governor has found it difficult to climb above 35 % in national polls , meaning that a majority of Republicans still support someone else in a notably weak field . His vote margins and totals lag behind those of four years before , when he lost the nomination to John McCain in a crowded and comparatively competent field , although Minnesota is the first state he won in '08 and lost in 2012 . You reap what you sow , and part of the reason turnout is down is directly related to the problem of polarization . The Republican Party is more ideologically polarized than at any time in recent history . Therefore , it put up more purely right-wing candidates than it did four years before , when center-right leaders such as McCain and Rudy Giuliani were also in the race . A bigger tent inspired bigger turnout . But the other reason is simple dissatisfaction with the candidates . Republicans seem united in their anger against the president -- like the Democrats in 2004 -- but they are uninspired by their options . Draft movements for fantasy candidates ranging from Chris Christie to Mitch Daniels to Paul Ryan and even Jeb Bush have started and failed . Some party leaders show more enthusiasm for a hypothetical 2016 crop of candidates , including Marco Rubio and Bobby Jindal , than they do for the flawed choices before them in this election . Divided and dispirited is an odd place for the Republican Party to be so soon after the enthusiasms of the 2010 tea party-driven election . The bottom line is that voter turnout matters . And what should be most troubling for Republicans is that this enthusiasm gap among the conservative base is accompanied by a lack of candidates who might appeal to independents and centrist swing voters in the general election . It is a double barrel of bad news for the Republican Party . The numbers can be spun and rationalized by professional partisan operatives all day long , but the fact remains -- voters just are n't turning out to cast their votes for this crop of conservative candidates in 2012 . Follow CNN Opinion on Twitter . Join the conversation on Facebook . The opinions expressed in this commentary are solely those of John Avlon .\""
      ]
     },
     "execution_count": 10,
     "metadata": {},
     "output_type": "execute_result"
    }
   ],
   "source": [
    "data['2140']['src']"
   ]
  },
  {
   "cell_type": "code",
   "execution_count": null,
   "metadata": {
    "colab": {
     "base_uri": "https://localhost:8080/",
     "height": 35
    },
    "id": "m0snh2PZ5qy8",
    "outputId": "62127948-c108-4362-b0a5-1ed6282f6d3d"
   },
   "outputs": [
    {
     "data": {
      "application/vnd.google.colaboratory.intrinsic+json": {
       "type": "string"
      },
      "text/plain": [
       "'John Avlon says low voter turnout in the primaries is a sign of a serious enthusiasm gap among the rank and file , a bad omen for the GOP .'"
      ]
     },
     "execution_count": 11,
     "metadata": {},
     "output_type": "execute_result"
    }
   ],
   "source": [
    "data['2140']['ref_summ']"
   ]
  },
  {
   "cell_type": "code",
   "execution_count": null,
   "metadata": {
    "colab": {
     "base_uri": "https://localhost:8080/"
    },
    "id": "RYa4qh5_5uL0",
    "outputId": "27384bbc-8d75-45cd-dcbb-744e947fccab"
   },
   "outputs": [
    {
     "data": {
      "text/plain": [
       "dict_keys(['fragments', 'textrank', 'abstractive', 'pointer_c', 'pointer_n', 'pointer_s', 'lede3'])"
      ]
     },
     "execution_count": 12,
     "metadata": {},
     "output_type": "execute_result"
    }
   ],
   "source": [
    "data['2140']['sys_summs'].keys()"
   ]
  },
  {
   "cell_type": "code",
   "execution_count": null,
   "metadata": {
    "colab": {
     "base_uri": "https://localhost:8080/"
    },
    "id": "_Jpunaz6SwJd",
    "outputId": "f11b387a-f1cf-4888-993d-c87c9eb7b12f"
   },
   "outputs": [
    {
     "data": {
      "text/plain": [
       "dict_keys(['sys_summ', 'scores'])"
      ]
     },
     "execution_count": 13,
     "metadata": {},
     "output_type": "execute_result"
    }
   ],
   "source": [
    "data['2140']['sys_summs']['textrank'].keys()"
   ]
  },
  {
   "cell_type": "code",
   "execution_count": null,
   "metadata": {
    "colab": {
     "base_uri": "https://localhost:8080/",
     "height": 52
    },
    "id": "RcfIvmvU597T",
    "outputId": "82b26a1e-aff8-4b09-c7e7-918896bb2dc8"
   },
   "outputs": [
    {
     "data": {
      "application/vnd.google.colaboratory.intrinsic+json": {
       "type": "string"
      },
      "text/plain": [
       "'In New Hampshire , the same dynamic applied -- 245,000 voters turned out in 2012 , compared with 241,000 four years before , despite Republicans being the only game in town and independents making up 47 % of the total turnout in 2012 , according to CNN exit polls .'"
      ]
     },
     "execution_count": 14,
     "metadata": {},
     "output_type": "execute_result"
    }
   ],
   "source": [
    "data['2140']['sys_summs']['textrank']['sys_summ']"
   ]
  },
  {
   "cell_type": "code",
   "execution_count": null,
   "metadata": {
    "colab": {
     "base_uri": "https://localhost:8080/"
    },
    "id": "4euhkAZtRvfG",
    "outputId": "c2bac13e-e032-4be9-faa9-5a551154327f"
   },
   "outputs": [
    {
     "data": {
      "text/plain": [
       "{'coherence': 4.0,\n",
       " 'fluency': 4.0,\n",
       " 'informativeness': 3.3333333333333335,\n",
       " 'relevance': 4.0}"
      ]
     },
     "execution_count": 15,
     "metadata": {},
     "output_type": "execute_result"
    }
   ],
   "source": [
    "data['2140']['sys_summs']['textrank']['scores']"
   ]
  },
  {
   "cell_type": "code",
   "execution_count": null,
   "metadata": {
    "id": "3w8ooVy48sjx"
   },
   "outputs": [],
   "source": [
    "from transformers import BartTokenizer, BartForConditionalGeneration\n",
    "import torch"
   ]
  },
  {
   "cell_type": "code",
   "execution_count": null,
   "metadata": {
    "id": "Fq5h9zabEH9K"
   },
   "outputs": [],
   "source": [
    "class CustomBartScorer:\n",
    "    def __init__(self, model_name=\"facebook/bart-large-cnn\", device=\"cuda\"):\n",
    "        \"\"\"\n",
    "        Initialize the tokenizer and model for computing BartScore.\n",
    "        Args:\n",
    "            model_name (str): Pretrained BART model checkpoint.\n",
    "            device (str): Device to run computations on ('cuda' or 'cpu').\n",
    "        \"\"\"\n",
    "        self.device = device\n",
    "        self.tokenizer = BartTokenizer.from_pretrained(model_name)\n",
    "        self.model = BartForConditionalGeneration.from_pretrained(model_name)\n",
    "        self.model.to(device)\n",
    "        self.model.eval()\n",
    "\n",
    "    def compute_log_probs(self, src_text, tgt_text):\n",
    "        \"\"\"\n",
    "        Compute the log probabilities of the target text given the source text.\n",
    "        Args:\n",
    "            src_text (str): Source text (e.g., source document).\n",
    "            tgt_text (str): Target text (e.g., system summary or reference summary).\n",
    "        Returns:\n",
    "            log_prob (float): The log probability of the target text.\n",
    "        \"\"\"\n",
    "        # Tokenize source and target texts\n",
    "        src_inputs = self.tokenizer(src_text, return_tensors=\"pt\", max_length=1024, truncation=True, padding=True).to(self.device)\n",
    "        tgt_inputs = self.tokenizer(tgt_text, return_tensors=\"pt\", max_length=1024, truncation=True, padding=True).to(self.device)\n",
    "\n",
    "        # Forward pass with source as input and target as labels\n",
    "        with torch.no_grad():\n",
    "            outputs = self.model(**src_inputs, labels=tgt_inputs[\"input_ids\"])\n",
    "            logits = outputs.logits  # Logits: (batch_size, seq_len, vocab_size)\n",
    "\n",
    "        # Compute log probabilities using log-softmax\n",
    "        log_probs = torch.nn.functional.log_softmax(logits, dim=-1)\n",
    "\n",
    "        # Gather log probabilities of the target tokens\n",
    "        tgt_token_ids = tgt_inputs[\"input_ids\"]\n",
    "        tgt_mask = tgt_inputs[\"attention_mask\"]\n",
    "        seq_len = tgt_mask.sum(dim=1)\n",
    "\n",
    "        # Collect log probabilities for the correct target tokens\n",
    "        tgt_log_probs = log_probs.gather(2, tgt_token_ids.unsqueeze(-1)).squeeze(-1)\n",
    "\n",
    "        # Mask out padding tokens and sum log probabilities\n",
    "        tgt_log_probs = tgt_log_probs * tgt_mask\n",
    "        total_log_probs = tgt_log_probs.sum(dim=1)\n",
    "\n",
    "        # Normalize by sequence length\n",
    "        normalized_log_probs = total_log_probs / seq_len\n",
    "\n",
    "        return normalized_log_probs.item()\n",
    "\n",
    "    def compute_bartscore(self, src, tgt):\n",
    "        \"\"\"\n",
    "        Compute BartScore for a given source and target text.\n",
    "        Args:\n",
    "            src (str): Source text.\n",
    "            tgt (str): Target text.\n",
    "        Returns:\n",
    "            score (float): BartScore value.\n",
    "        \"\"\"\n",
    "        return self.compute_log_probs(src, tgt)\n"
   ]
  },
  {
   "cell_type": "code",
   "execution_count": null,
   "metadata": {
    "colab": {
     "base_uri": "https://localhost:8080/"
    },
    "id": "Svu9eXJIEQ6T",
    "outputId": "074e3a4d-3c21-4da9-f92f-7f87754d57df"
   },
   "outputs": [
    {
     "name": "stderr",
     "output_type": "stream",
     "text": [
      "/usr/local/lib/python3.10/dist-packages/huggingface_hub/utils/_auth.py:94: UserWarning: \n",
      "The secret `HF_TOKEN` does not exist in your Colab secrets.\n",
      "To authenticate with the Hugging Face Hub, create a token in your settings tab (https://huggingface.co/settings/tokens), set it as secret in your Google Colab and restart your session.\n",
      "You will be able to reuse this secret in all of your notebooks.\n",
      "Please note that authentication is recommended but still optional to access public models or datasets.\n",
      "  warnings.warn(\n"
     ]
    }
   ],
   "source": [
    "scorer = CustomBartScorer(model_name=\"facebook/bart-large-cnn\", device=\"cuda\")"
   ]
  },
  {
   "cell_type": "code",
   "execution_count": null,
   "metadata": {
    "colab": {
     "base_uri": "https://localhost:8080/"
    },
    "id": "X5qwvg2uE2nZ",
    "outputId": "2356975e-b91b-40f6-b5ce-1dd08cd1a65f"
   },
   "outputs": [
    {
     "name": "stdout",
     "output_type": "stream",
     "text": [
      "BartScore: -3.3545756340026855\n"
     ]
    }
   ],
   "source": [
    "source = data['2140'][\"src\"]\n",
    "ref_summary = data['2140'][\"ref_summ\"]\n",
    "sys_summary = data['2140'][\"sys_summs\"]['textrank']['sys_summ']\n",
    "bart_score = scorer.compute_bartscore(sys_summary, ref_summary)\n",
    "print(f\"BartScore: {bart_score}\")"
   ]
  },
  {
   "cell_type": "code",
   "execution_count": null,
   "metadata": {
    "colab": {
     "base_uri": "https://localhost:8080/"
    },
    "id": "X0oTN7oZgLgJ",
    "outputId": "c22e0523-c6ee-4926-ad11-12866b74f801"
   },
   "outputs": [
    {
     "name": "stdout",
     "output_type": "stream",
     "text": [
      "Requirement already satisfied: evaluate in /usr/local/lib/python3.10/dist-packages (0.4.3)\n",
      "Requirement already satisfied: datasets>=2.0.0 in /usr/local/lib/python3.10/dist-packages (from evaluate) (3.1.0)\n",
      "Requirement already satisfied: numpy>=1.17 in /usr/local/lib/python3.10/dist-packages (from evaluate) (1.26.4)\n",
      "Requirement already satisfied: dill in /usr/local/lib/python3.10/dist-packages (from evaluate) (0.3.8)\n",
      "Requirement already satisfied: pandas in /usr/local/lib/python3.10/dist-packages (from evaluate) (2.2.2)\n",
      "Requirement already satisfied: requests>=2.19.0 in /usr/local/lib/python3.10/dist-packages (from evaluate) (2.32.3)\n",
      "Requirement already satisfied: tqdm>=4.62.1 in /usr/local/lib/python3.10/dist-packages (from evaluate) (4.66.6)\n",
      "Requirement already satisfied: xxhash in /usr/local/lib/python3.10/dist-packages (from evaluate) (3.5.0)\n",
      "Requirement already satisfied: multiprocess in /usr/local/lib/python3.10/dist-packages (from evaluate) (0.70.16)\n",
      "Requirement already satisfied: fsspec>=2021.05.0 in /usr/local/lib/python3.10/dist-packages (from fsspec[http]>=2021.05.0->evaluate) (2024.9.0)\n",
      "Requirement already satisfied: huggingface-hub>=0.7.0 in /usr/local/lib/python3.10/dist-packages (from evaluate) (0.26.2)\n",
      "Requirement already satisfied: packaging in /usr/local/lib/python3.10/dist-packages (from evaluate) (24.2)\n",
      "Requirement already satisfied: filelock in /usr/local/lib/python3.10/dist-packages (from datasets>=2.0.0->evaluate) (3.16.1)\n",
      "Requirement already satisfied: pyarrow>=15.0.0 in /usr/local/lib/python3.10/dist-packages (from datasets>=2.0.0->evaluate) (17.0.0)\n",
      "Requirement already satisfied: aiohttp in /usr/local/lib/python3.10/dist-packages (from datasets>=2.0.0->evaluate) (3.11.2)\n",
      "Requirement already satisfied: pyyaml>=5.1 in /usr/local/lib/python3.10/dist-packages (from datasets>=2.0.0->evaluate) (6.0.2)\n",
      "Requirement already satisfied: typing-extensions>=3.7.4.3 in /usr/local/lib/python3.10/dist-packages (from huggingface-hub>=0.7.0->evaluate) (4.12.2)\n",
      "Requirement already satisfied: charset-normalizer<4,>=2 in /usr/local/lib/python3.10/dist-packages (from requests>=2.19.0->evaluate) (3.4.0)\n",
      "Requirement already satisfied: idna<4,>=2.5 in /usr/local/lib/python3.10/dist-packages (from requests>=2.19.0->evaluate) (3.10)\n",
      "Requirement already satisfied: urllib3<3,>=1.21.1 in /usr/local/lib/python3.10/dist-packages (from requests>=2.19.0->evaluate) (2.2.3)\n",
      "Requirement already satisfied: certifi>=2017.4.17 in /usr/local/lib/python3.10/dist-packages (from requests>=2.19.0->evaluate) (2024.8.30)\n",
      "Requirement already satisfied: python-dateutil>=2.8.2 in /usr/local/lib/python3.10/dist-packages (from pandas->evaluate) (2.8.2)\n",
      "Requirement already satisfied: pytz>=2020.1 in /usr/local/lib/python3.10/dist-packages (from pandas->evaluate) (2024.2)\n",
      "Requirement already satisfied: tzdata>=2022.7 in /usr/local/lib/python3.10/dist-packages (from pandas->evaluate) (2024.2)\n",
      "Requirement already satisfied: aiohappyeyeballs>=2.3.0 in /usr/local/lib/python3.10/dist-packages (from aiohttp->datasets>=2.0.0->evaluate) (2.4.3)\n",
      "Requirement already satisfied: aiosignal>=1.1.2 in /usr/local/lib/python3.10/dist-packages (from aiohttp->datasets>=2.0.0->evaluate) (1.3.1)\n",
      "Requirement already satisfied: attrs>=17.3.0 in /usr/local/lib/python3.10/dist-packages (from aiohttp->datasets>=2.0.0->evaluate) (24.2.0)\n",
      "Requirement already satisfied: frozenlist>=1.1.1 in /usr/local/lib/python3.10/dist-packages (from aiohttp->datasets>=2.0.0->evaluate) (1.5.0)\n",
      "Requirement already satisfied: multidict<7.0,>=4.5 in /usr/local/lib/python3.10/dist-packages (from aiohttp->datasets>=2.0.0->evaluate) (6.1.0)\n",
      "Requirement already satisfied: propcache>=0.2.0 in /usr/local/lib/python3.10/dist-packages (from aiohttp->datasets>=2.0.0->evaluate) (0.2.0)\n",
      "Requirement already satisfied: yarl<2.0,>=1.17.0 in /usr/local/lib/python3.10/dist-packages (from aiohttp->datasets>=2.0.0->evaluate) (1.17.2)\n",
      "Requirement already satisfied: async-timeout<6.0,>=4.0 in /usr/local/lib/python3.10/dist-packages (from aiohttp->datasets>=2.0.0->evaluate) (4.0.3)\n",
      "Requirement already satisfied: six>=1.5 in /usr/local/lib/python3.10/dist-packages (from python-dateutil>=2.8.2->pandas->evaluate) (1.16.0)\n"
     ]
    }
   ],
   "source": [
    "!pip install evaluate"
   ]
  },
  {
   "cell_type": "code",
   "execution_count": null,
   "metadata": {
    "colab": {
     "base_uri": "https://localhost:8080/"
    },
    "id": "jpuOXOmrMAOU",
    "outputId": "9a464bac-8faa-4af3-c74f-e1723865dceb"
   },
   "outputs": [
    {
     "name": "stdout",
     "output_type": "stream",
     "text": [
      "Requirement already satisfied: rouge_score in /usr/local/lib/python3.10/dist-packages (0.1.2)\n",
      "Requirement already satisfied: absl-py in /usr/local/lib/python3.10/dist-packages (from rouge_score) (1.4.0)\n",
      "Requirement already satisfied: nltk in /usr/local/lib/python3.10/dist-packages (from rouge_score) (3.9.1)\n",
      "Requirement already satisfied: numpy in /usr/local/lib/python3.10/dist-packages (from rouge_score) (1.26.4)\n",
      "Requirement already satisfied: six>=1.14.0 in /usr/local/lib/python3.10/dist-packages (from rouge_score) (1.16.0)\n",
      "Requirement already satisfied: click in /usr/local/lib/python3.10/dist-packages (from nltk->rouge_score) (8.1.7)\n",
      "Requirement already satisfied: joblib in /usr/local/lib/python3.10/dist-packages (from nltk->rouge_score) (1.4.2)\n",
      "Requirement already satisfied: regex>=2021.8.3 in /usr/local/lib/python3.10/dist-packages (from nltk->rouge_score) (2024.9.11)\n",
      "Requirement already satisfied: tqdm in /usr/local/lib/python3.10/dist-packages (from nltk->rouge_score) (4.66.6)\n"
     ]
    }
   ],
   "source": [
    "!pip install rouge_score\n",
    "\n",
    "import evaluate\n",
    "from nltk.tokenize import sent_tokenize\n",
    "\n",
    "rouge = evaluate.load(\"rouge\")"
   ]
  },
  {
   "cell_type": "code",
   "execution_count": null,
   "metadata": {
    "id": "VO58U_UBP7n4"
   },
   "outputs": [],
   "source": [
    "# Store ROUGE-1 and BartScore results\n",
    "rouge1_scores = []\n",
    "rouge2_scores = []\n",
    "rougeL_scores = []\n",
    "bart_scores = []\n",
    "\n",
    "for element in data.values():\n",
    "    src = element[\"src\"]\n",
    "    ref_summ = element[\"ref_summ\"]\n",
    "    sys_summary = element[\"sys_summs\"]\n",
    "\n",
    "    # For each system summary variant (fragments, textrank, etc.), compute ROUGE and BartScore\n",
    "    for key, sys_sum_dict in sys_summary.items():\n",
    "        sys_sum = sys_sum_dict[\"sys_summ\"]\n",
    "        scores = sys_sum_dict[\"scores\"]\n",
    "\n",
    "        # Compute ROUGE score\n",
    "        rouge_result = rouge.compute(predictions=[sys_sum], references=[ref_summ])\n",
    "\n",
    "        # Store Rouge1 / Rouge2 / RougeL scores\n",
    "        rouge1_score = rouge_result['rouge1']\n",
    "        rouge2_score = rouge_result['rouge2']\n",
    "        rougeL_score = rouge_result['rougeL']\n",
    "\n",
    "        # Compute BartScore\n",
    "        bart_score = scorer.compute_bartscore(src, sys_sum)\n",
    "\n",
    "        # Append the results\n",
    "        rouge1_scores.append(rouge1_score)\n",
    "        rouge2_scores.append(rouge2_score)\n",
    "        rougeL_scores.append(rougeL_score)\n",
    "        bart_scores.append(bart_score)\n",
    "\n"
   ]
  },
  {
   "cell_type": "code",
   "execution_count": null,
   "metadata": {
    "id": "SzrNvNJDXZuV"
   },
   "outputs": [],
   "source": [
    "coh = []\n",
    "flu = []\n",
    "info = []\n",
    "rel = []\n",
    "\n",
    "for element in data.values():\n",
    "    src = element[\"src\"]\n",
    "    ref_summ = element[\"ref_summ\"]\n",
    "    sys_summary = element[\"sys_summs\"]\n",
    "\n",
    "    # For each system summary variant (fragments, textrank, etc.), compute ROUGE-1 and BartScore\n",
    "    for key, sys_sum_dict in sys_summary.items():\n",
    "        coh.append(sys_sum_dict['scores'][\"coherence\"])\n",
    "        flu.append(sys_sum_dict['scores'][\"fluency\"])\n",
    "        info.append(sys_sum_dict['scores'][\"informativeness\"])\n",
    "        rel.append(sys_sum_dict['scores'][\"relevance\"])"
   ]
  },
  {
   "cell_type": "code",
   "execution_count": null,
   "metadata": {
    "colab": {
     "base_uri": "https://localhost:8080/"
    },
    "id": "Ke08gTtVZYLd",
    "outputId": "96f12f9a-2ccc-4a03-a83c-41b8bbd03e00"
   },
   "outputs": [
    {
     "name": "stdout",
     "output_type": "stream",
     "text": [
      "Spearman correlation: 0.08937495069583032\n",
      "P-value: 0.06727295916026399\n"
     ]
    }
   ],
   "source": [
    "from scipy.stats import spearmanr\n",
    "\n",
    "# Calculate Spearman correlation between ROUGE-1 and COH\n",
    "corr, p_value = spearmanr(rouge1_scores, coh)\n",
    "\n",
    "print(f\"Spearman correlation: {corr}\")\n",
    "print(f\"P-value: {p_value}\")"
   ]
  },
  {
   "cell_type": "code",
   "execution_count": null,
   "metadata": {
    "colab": {
     "base_uri": "https://localhost:8080/"
    },
    "id": "96pD6vI2aFPP",
    "outputId": "51033743-ccc0-44cc-bd98-0d645045d60f"
   },
   "outputs": [
    {
     "name": "stdout",
     "output_type": "stream",
     "text": [
      "Spearman correlation: 0.6247454492952434\n",
      "P-value: 7.621659394815542e-47\n"
     ]
    }
   ],
   "source": [
    "# Calculate Spearman correlation between BartScore and COH\n",
    "corr, p_value = spearmanr(bart_scores, coh)\n",
    "\n",
    "print(f\"Spearman correlation: {corr}\")\n",
    "print(f\"P-value: {p_value}\")"
   ]
  },
  {
   "cell_type": "code",
   "execution_count": null,
   "metadata": {
    "colab": {
     "base_uri": "https://localhost:8080/"
    },
    "id": "4_rGt2mhhBv3",
    "outputId": "55972f46-2e46-474a-cc31-22cafabd243b"
   },
   "outputs": [
    {
     "name": "stdout",
     "output_type": "stream",
     "text": [
      "Requirement already satisfied: moverscore in /usr/local/lib/python3.10/dist-packages (1.0.3)\n",
      "Requirement already satisfied: typing in /usr/local/lib/python3.10/dist-packages (from moverscore) (3.7.4.3)\n",
      "Requirement already satisfied: portalocker in /usr/local/lib/python3.10/dist-packages (from moverscore) (3.0.0)\n"
     ]
    },
    {
     "name": "stderr",
     "output_type": "stream",
     "text": [
      "Exception in thread Thread-5 (attachment_entry):\n",
      "Traceback (most recent call last):\n",
      "  File \"/usr/local/lib/python3.10/dist-packages/debugpy/server/api.py\", line 237, in listen\n",
      "    sock, _ = endpoints_listener.accept()\n",
      "  File \"/usr/lib/python3.10/socket.py\", line 293, in accept\n",
      "    fd, addr = self._accept()\n",
      "TimeoutError: timed out\n",
      "\n",
      "During handling of the above exception, another exception occurred:\n",
      "\n",
      "Traceback (most recent call last):\n",
      "  File \"/usr/lib/python3.10/threading.py\", line 1016, in _bootstrap_inner\n",
      "    self.run()\n",
      "  File \"/usr/lib/python3.10/threading.py\", line 953, in run\n",
      "    self._target(*self._args, **self._kwargs)\n",
      "  File \"/usr/local/lib/python3.10/dist-packages/google/colab/_debugpy.py\", line 52, in attachment_entry\n",
      "    debugpy.listen(_dap_port)\n",
      "  File \"/usr/local/lib/python3.10/dist-packages/debugpy/public_api.py\", line 31, in wrapper\n",
      "    return wrapped(*args, **kwargs)\n",
      "  File \"/usr/local/lib/python3.10/dist-packages/debugpy/server/api.py\", line 143, in debug\n",
      "    log.reraise_exception(\"{0}() failed:\", func.__name__, level=\"info\")\n",
      "  File \"/usr/local/lib/python3.10/dist-packages/debugpy/server/api.py\", line 141, in debug\n",
      "    return func(address, settrace_kwargs, **kwargs)\n",
      "  File \"/usr/local/lib/python3.10/dist-packages/debugpy/server/api.py\", line 251, in listen\n",
      "    raise RuntimeError(\"timed out waiting for adapter to connect\")\n",
      "RuntimeError: timed out waiting for adapter to connect\n"
     ]
    }
   ],
   "source": [
    "!pip install moverscore"
   ]
  },
  {
   "cell_type": "code",
   "execution_count": null,
   "metadata": {
    "colab": {
     "base_uri": "https://localhost:8080/"
    },
    "id": "YJtpS-Ziill4",
    "outputId": "6f8c2c3b-a1e5-4eab-ccd9-02eeb8919b47"
   },
   "outputs": [
    {
     "name": "stdout",
     "output_type": "stream",
     "text": [
      "Requirement already satisfied: pyemd in /usr/local/lib/python3.10/dist-packages (1.0.0)\n",
      "Requirement already satisfied: numpy>=1.9.0 in /usr/local/lib/python3.10/dist-packages (from pyemd) (1.26.4)\n",
      "Collecting pytorch_pretrained_bert\n",
      "  Downloading pytorch_pretrained_bert-0.6.2-py3-none-any.whl.metadata (86 kB)\n",
      "\u001b[2K     \u001b[90m━━━━━━━━━━━━━━━━━━━━━━━━━━━━━━━━━━━━━━━━\u001b[0m \u001b[32m86.7/86.7 kB\u001b[0m \u001b[31m7.4 MB/s\u001b[0m eta \u001b[36m0:00:00\u001b[0m\n",
      "\u001b[?25hRequirement already satisfied: torch>=0.4.1 in /usr/local/lib/python3.10/dist-packages (from pytorch_pretrained_bert) (2.5.1+cu121)\n",
      "Requirement already satisfied: numpy in /usr/local/lib/python3.10/dist-packages (from pytorch_pretrained_bert) (1.26.4)\n",
      "Collecting boto3 (from pytorch_pretrained_bert)\n",
      "  Downloading boto3-1.35.76-py3-none-any.whl.metadata (6.7 kB)\n",
      "Requirement already satisfied: requests in /usr/local/lib/python3.10/dist-packages (from pytorch_pretrained_bert) (2.32.3)\n",
      "Requirement already satisfied: tqdm in /usr/local/lib/python3.10/dist-packages (from pytorch_pretrained_bert) (4.66.6)\n",
      "Requirement already satisfied: regex in /usr/local/lib/python3.10/dist-packages (from pytorch_pretrained_bert) (2024.9.11)\n",
      "Requirement already satisfied: filelock in /usr/local/lib/python3.10/dist-packages (from torch>=0.4.1->pytorch_pretrained_bert) (3.16.1)\n",
      "Requirement already satisfied: typing-extensions>=4.8.0 in /usr/local/lib/python3.10/dist-packages (from torch>=0.4.1->pytorch_pretrained_bert) (4.12.2)\n",
      "Requirement already satisfied: networkx in /usr/local/lib/python3.10/dist-packages (from torch>=0.4.1->pytorch_pretrained_bert) (3.4.2)\n",
      "Requirement already satisfied: jinja2 in /usr/local/lib/python3.10/dist-packages (from torch>=0.4.1->pytorch_pretrained_bert) (3.1.4)\n",
      "Requirement already satisfied: fsspec in /usr/local/lib/python3.10/dist-packages (from torch>=0.4.1->pytorch_pretrained_bert) (2024.9.0)\n",
      "Requirement already satisfied: sympy==1.13.1 in /usr/local/lib/python3.10/dist-packages (from torch>=0.4.1->pytorch_pretrained_bert) (1.13.1)\n",
      "Requirement already satisfied: mpmath<1.4,>=1.1.0 in /usr/local/lib/python3.10/dist-packages (from sympy==1.13.1->torch>=0.4.1->pytorch_pretrained_bert) (1.3.0)\n",
      "Collecting botocore<1.36.0,>=1.35.76 (from boto3->pytorch_pretrained_bert)\n",
      "  Downloading botocore-1.35.76-py3-none-any.whl.metadata (5.7 kB)\n",
      "Collecting jmespath<2.0.0,>=0.7.1 (from boto3->pytorch_pretrained_bert)\n",
      "  Downloading jmespath-1.0.1-py3-none-any.whl.metadata (7.6 kB)\n",
      "Collecting s3transfer<0.11.0,>=0.10.0 (from boto3->pytorch_pretrained_bert)\n",
      "  Downloading s3transfer-0.10.4-py3-none-any.whl.metadata (1.7 kB)\n",
      "Requirement already satisfied: charset-normalizer<4,>=2 in /usr/local/lib/python3.10/dist-packages (from requests->pytorch_pretrained_bert) (3.4.0)\n",
      "Requirement already satisfied: idna<4,>=2.5 in /usr/local/lib/python3.10/dist-packages (from requests->pytorch_pretrained_bert) (3.10)\n",
      "Requirement already satisfied: urllib3<3,>=1.21.1 in /usr/local/lib/python3.10/dist-packages (from requests->pytorch_pretrained_bert) (2.2.3)\n",
      "Requirement already satisfied: certifi>=2017.4.17 in /usr/local/lib/python3.10/dist-packages (from requests->pytorch_pretrained_bert) (2024.8.30)\n",
      "Requirement already satisfied: python-dateutil<3.0.0,>=2.1 in /usr/local/lib/python3.10/dist-packages (from botocore<1.36.0,>=1.35.76->boto3->pytorch_pretrained_bert) (2.8.2)\n",
      "Requirement already satisfied: MarkupSafe>=2.0 in /usr/local/lib/python3.10/dist-packages (from jinja2->torch>=0.4.1->pytorch_pretrained_bert) (3.0.2)\n",
      "Requirement already satisfied: six>=1.5 in /usr/local/lib/python3.10/dist-packages (from python-dateutil<3.0.0,>=2.1->botocore<1.36.0,>=1.35.76->boto3->pytorch_pretrained_bert) (1.16.0)\n",
      "Downloading pytorch_pretrained_bert-0.6.2-py3-none-any.whl (123 kB)\n",
      "\u001b[2K   \u001b[90m━━━━━━━━━━━━━━━━━━━━━━━━━━━━━━━━━━━━━━━━\u001b[0m \u001b[32m123.8/123.8 kB\u001b[0m \u001b[31m12.3 MB/s\u001b[0m eta \u001b[36m0:00:00\u001b[0m\n",
      "\u001b[?25hDownloading boto3-1.35.76-py3-none-any.whl (139 kB)\n",
      "\u001b[2K   \u001b[90m━━━━━━━━━━━━━━━━━━━━━━━━━━━━━━━━━━━━━━━━\u001b[0m \u001b[32m139.2/139.2 kB\u001b[0m \u001b[31m13.3 MB/s\u001b[0m eta \u001b[36m0:00:00\u001b[0m\n",
      "\u001b[?25hDownloading botocore-1.35.76-py3-none-any.whl (13.2 MB)\n",
      "\u001b[2K   \u001b[90m━━━━━━━━━━━━━━━━━━━━━━━━━━━━━━━━━━━━━━━━\u001b[0m \u001b[32m13.2/13.2 MB\u001b[0m \u001b[31m102.7 MB/s\u001b[0m eta \u001b[36m0:00:00\u001b[0m\n",
      "\u001b[?25hDownloading jmespath-1.0.1-py3-none-any.whl (20 kB)\n",
      "Downloading s3transfer-0.10.4-py3-none-any.whl (83 kB)\n",
      "\u001b[2K   \u001b[90m━━━━━━━━━━━━━━━━━━━━━━━━━━━━━━━━━━━━━━━━\u001b[0m \u001b[32m83.2/83.2 kB\u001b[0m \u001b[31m7.9 MB/s\u001b[0m eta \u001b[36m0:00:00\u001b[0m\n",
      "\u001b[?25hInstalling collected packages: jmespath, botocore, s3transfer, boto3, pytorch_pretrained_bert\n",
      "Successfully installed boto3-1.35.76 botocore-1.35.76 jmespath-1.0.1 pytorch_pretrained_bert-0.6.2 s3transfer-0.10.4\n"
     ]
    }
   ],
   "source": [
    "!pip install pyemd\n",
    "!pip install pytorch_pretrained_bert"
   ]
  },
  {
   "cell_type": "code",
   "execution_count": null,
   "metadata": {
    "colab": {
     "base_uri": "https://localhost:8080/"
    },
    "id": "p-xKtmUdh88v",
    "outputId": "aa800bd2-5783-4fb9-a1c5-33fc73cd6992"
   },
   "outputs": [
    {
     "name": "stdout",
     "output_type": "stream",
     "text": [
      "Downloading https://github.com/AIPHES/emnlp19-moverscore/releases/download/0.6/MNLI_BERT.zip to /root/.moverscore/MNLI_BERT.zip\n",
      "[--------------------------------------------------]\n"
     ]
    },
    {
     "name": "stderr",
     "output_type": "stream",
     "text": [
      "/usr/local/lib/python3.10/dist-packages/pytorch_pretrained_bert/modeling.py:603: FutureWarning: You are using `torch.load` with `weights_only=False` (the current default value), which uses the default pickle module implicitly. It is possible to construct malicious pickle data which will execute arbitrary code during unpickling (See https://github.com/pytorch/pytorch/blob/main/SECURITY.md#untrusted-models for more details). In a future release, the default value for `weights_only` will be flipped to `True`. This limits the functions that could be executed during unpickling. Arbitrary objects will no longer be allowed to be loaded via this mode unless they are explicitly allowlisted by the user via `torch.serialization.add_safe_globals`. We recommend you start setting `weights_only=True` for any use case where you don't have full control of the loaded file. Please open an issue on GitHub for any issues related to this experimental feature.\n",
      "  state_dict = torch.load(weights_path, map_location='cpu')\n"
     ]
    }
   ],
   "source": [
    "from moverscore import word_mover_score, get_idf_dict\n",
    "import numpy as np"
   ]
  },
  {
   "cell_type": "code",
   "execution_count": null,
   "metadata": {
    "id": "0Uy_O5_LjIFD"
   },
   "outputs": [],
   "source": [
    "# Initialize lists to store generated summaries and reference summaries\n",
    "generated_texts = []\n",
    "reference_texts = []\n",
    "\n",
    "# Iterate through the dataset to extract generated and reference texts\n",
    "for element in data.values():\n",
    "    ref_summ = element['ref_summ']  # Reference summary\n",
    "    sys_summaries = element['sys_summs']  # System-generated summaries collection\n",
    "\n",
    "    for sys_name, sys_data in sys_summaries.items():\n",
    "        sys_summ = sys_data['sys_summ']  # Extract system-generated summary\n",
    "\n",
    "        # Add generated and reference texts to the respective lists\n",
    "        generated_texts.append(sys_summ)\n",
    "        reference_texts.append(ref_summ)\n"
   ]
  },
  {
   "cell_type": "code",
   "execution_count": null,
   "metadata": {
    "id": "stMRzpK4jODG"
   },
   "outputs": [],
   "source": [
    "# Calculate the IDF for reference and generated summaries\n",
    "idf_reference = get_idf_dict(reference_texts)\n",
    "idf_generated = get_idf_dict(generated_texts)\n",
    "\n",
    "# Calculate MoverScore\n",
    "mover_scores = word_mover_score(\n",
    "    reference_texts,          # List of reference summaries\n",
    "    generated_texts,          # List of generated summaries\n",
    "    idf_reference,            # IDF dictionary for reference texts\n",
    "    idf_generated,            # IDF dictionary for generated texts\n",
    "    stop_words=[],            # Stopwords, typically used to remove non-essential words\n",
    "    n_gram=1,                 # Use n-gram, default is 1 (unigram)\n",
    "    remove_subwords=True,     # Whether to remove subwords\n",
    "    batch_size=8,             # Batch size, adjust to improve calculation speed\n",
    "    device='cuda'             # Choose computing device, e.g., 'cuda' or 'cpu'\n",
    ")"
   ]
  },
  {
   "cell_type": "code",
   "execution_count": null,
   "metadata": {
    "colab": {
     "base_uri": "https://localhost:8080/"
    },
    "id": "KpxYyNqrjWcq",
    "outputId": "7f87549b-6763-4f63-f4c5-c669b5f20e97"
   },
   "outputs": [
    {
     "name": "stdout",
     "output_type": "stream",
     "text": [
      "MoverScore: [0.6443659943650033, -0.0975651378471547, -0.1674827449099776, -0.06380617310423342, -0.022069119871935605, -0.026302616397309464, -0.022481765900183026, 0.027062012660817092, 0.8582724117840813, 0.24099229829800684, -0.08201828437115455, -0.14490503358300888, -0.020782506203897544, 0.1173039639128558, -0.048402421317363054, 0.5252036284162317, -0.05651812396520017, -0.22360462486757404, -0.025139835822427514, -0.015850034516798894, -0.09210653280002279, -0.17566555315860444, -0.03660430725619679, -0.08502075188982294, -0.14731689691116512, 0.28627290240799996, -0.20522721183164427, -0.21260498793138027, -0.11135289014875394, 0.15498794496845314, -0.13670811160668084, -0.12676933656232303, -0.1280275397616546, -0.10867235075851789, -0.1261064357303463, -0.07536147865991438, 0.37193658346650926, -0.07228040097024402, -0.17619373371331304, -0.022718053956901407, -0.17363561773568903, -0.11525647323524457, 0.4563836034336717, 0.9254228234068088, 0.20596120292667086, -0.315664626191583, 0.1138104897184512, 0.5465550604395535, 0.32262549057724343, -0.09153233408880612, -0.01708784478178571, -0.12183002273461585, -0.2132286903134264, -0.13746592022791337, -0.13271490909187622, -0.13290170841728322, 0.23929636751631833, 0.8110366875940669, -0.014356767870504994, -0.16803204443316555, -0.0456659071283787, 0.3223337911494478, 0.23745312023614584, -0.196914009937734, 0.14257911837273407, -0.16135597007015257, -0.24066603947387688, -0.12363029931900527, -0.14525988074224294, -0.08777729377928933, -0.05490736302008248, 0.5281401053741235, -0.1260468109172972, -0.19420805532567909, -0.18781627148008417, -0.1668237778883772, -0.18952173560678642, -0.12185590154302117, -0.0950951793762389, -0.10256053718082891, -0.08580208240005804, -0.14071423875563327, -0.10908007580533408, -0.08945871439295106, -0.0032187711927695872, 0.9400328124756997, 0.26841389748968003, -0.16626096972130822, 0.07922355700302353, -0.09341302980941579, -0.14923123062532162, -0.06826321903183219, 0.21008898355549277, -0.19940067316951726, -0.2798043574423801, -0.10285208322953299, -0.12384257494696382, -0.1407639007674082, -0.09634965068458956, 0.9418076946702286, 0.639987900853735, -0.40765891448831826, -0.09431425997684184, 0.05308784189597193, -0.029010676205156294, -0.1570912494946468, 0.8021111832733192, -0.20504871520527979, -0.31964019746961125, -0.12136998452449488, -0.005956603196717536, -0.11368261059692797, 0.10128168002234739, 0.5415848831436296, 0.012701505660589696, -0.23304491050690568, -0.06934758014987219, -0.045741719888876986, -0.009558209385191807, 0.011003806044446729, 0.8762661109549226, 0.001908345776530651, -0.23508239236448403, 0.06916401450979859, 0.18854515255849125, -0.06356565327926988, -0.07128845876058576, 0.12886600651173252, -0.09789061973048296, -0.13713119420396658, -0.16409887094953612, -0.04734044467174536, -0.08431311403846142, 0.356987442033616, 0.6816529511377205, 0.5100294757074171, -0.2196275793437017, 0.20413126199170162, 0.6982183683460761, 0.5256907010954253, -0.2861566233766444, -0.23740468187410224, -0.24032090768121472, -0.16538255495850307, -0.28387405575740066, -0.2614456420289397, -0.2973260177892705, -0.05366995680192055, 0.8687764730807105, 0.09051170338799319, -0.2158271247612087, 0.19684079889794415, -0.03292390501367781, -0.02392546265827833, 0.013016452749063046, 0.21167328085384252, -0.031063049275422916, -0.1972642990530975, -0.011851302901097593, 0.06683449229836358, 0.04851838762849392, 0.32664771040336293, 0.8629967137957214, 0.03282090557655637, -0.1808155371796214, 0.04689310299416283, 0.5220761976561525, 0.2585122185060814, -0.15993518962791065, 0.225764018938569, -0.17782405856756522, -0.1665366517709299, -0.18161674515416038, -0.18430193590680455, -0.17152949670305384, -0.04255330037261307, 0.9078776722166245, -0.03653230636697313, -0.2462502972462346, -0.10358863622346104, -0.07762657765624215, -0.07741265591907598, -0.07964589744511819, 0.7129503589686575, 0.044682697868922316, -0.358785538631742, 0.024833118283288602, -0.016032373555091795, -0.030522332060574087, 0.11955728566524781, 0.799573552987002, -0.020448963912049534, -0.24039352427155447, -0.021994328911064454, 0.3002172044843586, 0.04105430726812631, -0.08233567486249083, 0.5327511872964547, -0.00643215878596215, -0.18382582422458094, -0.08195596049304199, -0.19664464086847078, -0.1125289674525145, 0.2802964842950634, 0.8685996098471649, 0.34964022148419993, -0.21949824842421162, 0.23823711604824127, 0.11133637289930676, 0.277014639271281, -0.14744298532822042, 0.6615787240112043, 0.06940416319999199, -0.17237074812086073, -0.032664295476716454, -0.10289671206186579, -0.11361455774269058, -0.12239808958131526, 0.51354866682635, -0.1357781627641963, -0.23969833047219957, -0.14715216279650378, -0.18785808471436205, -0.11466744106190108, 0.4258179136114624, 0.8235247927371242, -0.016490755804086543, -0.18889266962956608, -0.06806382082626428, 0.19732762689674954, 0.029530539135297795, 0.20443248246113632, 0.8401476004877599, -0.007582011775270292, -0.13973724716146574, -0.07040276064522155, -0.07062945542600585, -0.024633078097797245, 0.30338218541926965, 0.7706552396705544, -0.1456887728499736, -0.17962275611294887, -0.09777000160780513, -0.08536355004385499, -0.08676053843647513, 0.364892964304114, 0.8275375180220481, 0.8592490719538348, -0.12913741683958624, 0.09597833315907289, 0.7576278376817651, 0.859249126865776, 0.18336983780967653, 0.69052161343548, 0.24660036732588453, -0.20439967397307157, -0.08021216931172592, -0.037406849705861944, -0.06035643686295855, -0.0033379538111704132, 0.6156218135809194, -0.014450727350133752, -0.11544002452315993, -0.008643498390260573, 0.03889049922484422, -0.04388533188304655, 0.1597679586171039, 0.8187056881771739, 0.6194365243126176, -0.15864224759921752, 0.13897340797591462, 0.2639285871021968, 0.1601895072049977, 0.3553307262494324, 0.8754563788002404, -0.020142115556577744, -0.19429717115904488, -0.15129330695094012, 0.5000993063409094, 0.44919173136634183, -0.1443092172361049, 0.7851585645132866, -0.1591634339717618, -0.16808003985177367, -0.16158257298625767, -0.1429379713556398, -0.13955361756494522, 0.15876142594138654, 0.878557689605618, -0.15036766319874229, -0.37273394161804174, 0.1131598531737028, 0.024830280907213065, 0.15381284917708504, 0.15716982097164933, 0.8325979483610447, -0.1442642218696535, -0.21001801086597705, -0.08553626461733033, -0.0583092528064757, 0.1630767885615374, 0.16412281985245314, 0.748082892111329, 0.2644664542811427, -0.31017126765668857, -0.03718066674538134, 0.10277720589992867, -0.026787061570733295, -0.24141299222919654, 0.6438080728026998, -0.22887139482412655, -0.2551024999794844, -0.23091977247558448, -0.19916855771696462, -0.19698989718214954, -0.13124773866133288, 0.7286847250447248, -0.08219220439863739, -0.07549907983714199, -0.14141981352811683, -0.11268083930585826, -0.10250762129509283, -0.04837667566948678, 0.12864984009411384, 0.07310038391712603, -0.2204869699384837, -0.03308089611679477, -0.08665242680667484, -0.01770212594105569, -0.049842818431791835, 0.38835249183076503, -0.10032234678891427, -0.11265182625580161, -0.09617671055658339, 0.009757805593519464, -0.018445919597880556, -0.13537806063545577, 0.4649546875121947, -0.13143148933569027, -0.18644492905477628, -0.14854820584532824, -0.13534615374277847, -0.11689256894896305, -0.09474736290958186, 0.2903594862076093, -0.05582581424134081, -0.3563455946576277, -0.06256906586735833, -0.05498041185266378, -0.09986295856000815, -0.10235410481846952, 0.33948887412719475, 0.001980561432383565, -0.15563941104231094, -0.10382428847083802, -0.008415269127528324, -0.06186113852068198, -0.1330694463120774, 0.5590360422369851, -0.08136005978395033, -0.16041322318749418, -0.13767813095414616, -0.12427701023772553, -0.07803422075769917, -0.13535568869556314, 0.31595126722337163, -0.10356153566386839, -0.36323872752127095, 0.029115518273376773, 0.05725784066033346, -0.0048731151266872, -0.11998204702271553, 0.6285314041387942, -0.09744939823506993, -0.2419495431344545, -0.09191555494112036, -0.09231440072207575, -0.07991359648850938, -0.21944846241203764, 0.18870744494015135, -0.21745979244816138, -0.15125038206015584, -0.17057338024851676, -0.23917292631878007, -0.17217699906904937, -0.021011000476294228, 0.7422348562175434, -0.014909116225874985, -0.3314219476689655, -0.1709540538213259, -0.16859111166386742, -0.14410544183253893, -0.14310735173768485, 0.7761067426702568, -0.10232917840476707, -0.14089818727592163, -0.021401919961985483, -0.1694935904210071, -0.1694935904210071, -0.15327649961277134, 0.4361825590962669, -0.08013118032147037, -0.27796771583252045, -0.11050909464569125, -0.12684669704741758, -0.1415268992216192, 0.09547574646753487, 0.4324056895951368, -0.07324542053074712, -0.11115944134795752, 0.05182234630591409, 0.010061863802848126, 0.02375452968227454, 0.06146351712833542, 0.5001651173352581, -0.011852071701873967, -0.17694649963241504, -0.06035591647358274, -0.11446103471676694, 0.014266789943350844]\n"
     ]
    }
   ],
   "source": [
    "print(f\"MoverScore: {mover_scores}\")"
   ]
  },
  {
   "cell_type": "code",
   "execution_count": null,
   "metadata": {
    "colab": {
     "base_uri": "https://localhost:8080/"
    },
    "id": "6tyeGra_mAkE",
    "outputId": "bad47d30-4a29-42a1-8e8d-5b916c106016"
   },
   "outputs": [
    {
     "name": "stdout",
     "output_type": "stream",
     "text": [
      "Spearman correlation of mover: 0.16533263993512104\n",
      "P-value of mover: 0.0006698000474395901\n"
     ]
    }
   ],
   "source": [
    "from scipy.stats import spearmanr\n",
    "\n",
    "# Calculate Spearman correlation between ROUGE-1 and COH\n",
    "corr, p_value = spearmanr(mover_scores, coh)\n",
    "\n",
    "print(f\"Spearman correlation of mover: {corr}\")\n",
    "print(f\"P-value of mover: {p_value}\")"
   ]
  },
  {
   "cell_type": "code",
   "execution_count": null,
   "metadata": {
    "colab": {
     "base_uri": "https://localhost:8080/"
    },
    "id": "BBL4EgFwmIlx",
    "outputId": "e17198cd-7b45-49af-e739-9cd8c67b795f"
   },
   "outputs": [
    {
     "name": "stdout",
     "output_type": "stream",
     "text": [
      "Collecting bert-score\n",
      "  Downloading bert_score-0.3.13-py3-none-any.whl.metadata (15 kB)\n",
      "Requirement already satisfied: torch>=1.0.0 in /usr/local/lib/python3.10/dist-packages (from bert-score) (2.5.1+cu121)\n",
      "Requirement already satisfied: pandas>=1.0.1 in /usr/local/lib/python3.10/dist-packages (from bert-score) (2.2.2)\n",
      "Requirement already satisfied: transformers>=3.0.0 in /usr/local/lib/python3.10/dist-packages (from bert-score) (4.46.2)\n",
      "Requirement already satisfied: numpy in /usr/local/lib/python3.10/dist-packages (from bert-score) (1.26.4)\n",
      "Requirement already satisfied: requests in /usr/local/lib/python3.10/dist-packages (from bert-score) (2.32.3)\n",
      "Requirement already satisfied: tqdm>=4.31.1 in /usr/local/lib/python3.10/dist-packages (from bert-score) (4.66.6)\n",
      "Requirement already satisfied: matplotlib in /usr/local/lib/python3.10/dist-packages (from bert-score) (3.8.0)\n",
      "Requirement already satisfied: packaging>=20.9 in /usr/local/lib/python3.10/dist-packages (from bert-score) (24.2)\n",
      "Requirement already satisfied: python-dateutil>=2.8.2 in /usr/local/lib/python3.10/dist-packages (from pandas>=1.0.1->bert-score) (2.8.2)\n",
      "Requirement already satisfied: pytz>=2020.1 in /usr/local/lib/python3.10/dist-packages (from pandas>=1.0.1->bert-score) (2024.2)\n",
      "Requirement already satisfied: tzdata>=2022.7 in /usr/local/lib/python3.10/dist-packages (from pandas>=1.0.1->bert-score) (2024.2)\n",
      "Requirement already satisfied: filelock in /usr/local/lib/python3.10/dist-packages (from torch>=1.0.0->bert-score) (3.16.1)\n",
      "Requirement already satisfied: typing-extensions>=4.8.0 in /usr/local/lib/python3.10/dist-packages (from torch>=1.0.0->bert-score) (4.12.2)\n",
      "Requirement already satisfied: networkx in /usr/local/lib/python3.10/dist-packages (from torch>=1.0.0->bert-score) (3.4.2)\n",
      "Requirement already satisfied: jinja2 in /usr/local/lib/python3.10/dist-packages (from torch>=1.0.0->bert-score) (3.1.4)\n",
      "Requirement already satisfied: fsspec in /usr/local/lib/python3.10/dist-packages (from torch>=1.0.0->bert-score) (2024.9.0)\n",
      "Requirement already satisfied: sympy==1.13.1 in /usr/local/lib/python3.10/dist-packages (from torch>=1.0.0->bert-score) (1.13.1)\n",
      "Requirement already satisfied: mpmath<1.4,>=1.1.0 in /usr/local/lib/python3.10/dist-packages (from sympy==1.13.1->torch>=1.0.0->bert-score) (1.3.0)\n",
      "Requirement already satisfied: huggingface-hub<1.0,>=0.23.2 in /usr/local/lib/python3.10/dist-packages (from transformers>=3.0.0->bert-score) (0.26.2)\n",
      "Requirement already satisfied: pyyaml>=5.1 in /usr/local/lib/python3.10/dist-packages (from transformers>=3.0.0->bert-score) (6.0.2)\n",
      "Requirement already satisfied: regex!=2019.12.17 in /usr/local/lib/python3.10/dist-packages (from transformers>=3.0.0->bert-score) (2024.9.11)\n",
      "Requirement already satisfied: safetensors>=0.4.1 in /usr/local/lib/python3.10/dist-packages (from transformers>=3.0.0->bert-score) (0.4.5)\n",
      "Requirement already satisfied: tokenizers<0.21,>=0.20 in /usr/local/lib/python3.10/dist-packages (from transformers>=3.0.0->bert-score) (0.20.3)\n",
      "Requirement already satisfied: contourpy>=1.0.1 in /usr/local/lib/python3.10/dist-packages (from matplotlib->bert-score) (1.3.1)\n",
      "Requirement already satisfied: cycler>=0.10 in /usr/local/lib/python3.10/dist-packages (from matplotlib->bert-score) (0.12.1)\n",
      "Requirement already satisfied: fonttools>=4.22.0 in /usr/local/lib/python3.10/dist-packages (from matplotlib->bert-score) (4.55.0)\n",
      "Requirement already satisfied: kiwisolver>=1.0.1 in /usr/local/lib/python3.10/dist-packages (from matplotlib->bert-score) (1.4.7)\n",
      "Requirement already satisfied: pillow>=6.2.0 in /usr/local/lib/python3.10/dist-packages (from matplotlib->bert-score) (11.0.0)\n",
      "Requirement already satisfied: pyparsing>=2.3.1 in /usr/local/lib/python3.10/dist-packages (from matplotlib->bert-score) (3.2.0)\n",
      "Requirement already satisfied: charset-normalizer<4,>=2 in /usr/local/lib/python3.10/dist-packages (from requests->bert-score) (3.4.0)\n",
      "Requirement already satisfied: idna<4,>=2.5 in /usr/local/lib/python3.10/dist-packages (from requests->bert-score) (3.10)\n",
      "Requirement already satisfied: urllib3<3,>=1.21.1 in /usr/local/lib/python3.10/dist-packages (from requests->bert-score) (2.2.3)\n",
      "Requirement already satisfied: certifi>=2017.4.17 in /usr/local/lib/python3.10/dist-packages (from requests->bert-score) (2024.8.30)\n",
      "Requirement already satisfied: six>=1.5 in /usr/local/lib/python3.10/dist-packages (from python-dateutil>=2.8.2->pandas>=1.0.1->bert-score) (1.16.0)\n",
      "Requirement already satisfied: MarkupSafe>=2.0 in /usr/local/lib/python3.10/dist-packages (from jinja2->torch>=1.0.0->bert-score) (3.0.2)\n",
      "Downloading bert_score-0.3.13-py3-none-any.whl (61 kB)\n",
      "\u001b[2K   \u001b[90m━━━━━━━━━━━━━━━━━━━━━━━━━━━━━━━━━━━━━━━━\u001b[0m \u001b[32m61.1/61.1 kB\u001b[0m \u001b[31m3.4 MB/s\u001b[0m eta \u001b[36m0:00:00\u001b[0m\n",
      "\u001b[?25hInstalling collected packages: bert-score\n",
      "Successfully installed bert-score-0.3.13\n"
     ]
    }
   ],
   "source": [
    "!pip install bert-score"
   ]
  },
  {
   "cell_type": "code",
   "execution_count": null,
   "metadata": {
    "id": "fygHe2ZInadm"
   },
   "outputs": [],
   "source": [
    "from bert_score import BERTScorer"
   ]
  },
  {
   "cell_type": "code",
   "execution_count": null,
   "metadata": {
    "colab": {
     "base_uri": "https://localhost:8080/"
    },
    "id": "HdgRBa7om5J9",
    "outputId": "55c0b1f5-64ea-4ba9-ef7b-f1c1196dbbca"
   },
   "outputs": [
    {
     "name": "stderr",
     "output_type": "stream",
     "text": [
      "Some weights of RobertaModel were not initialized from the model checkpoint at roberta-large and are newly initialized: ['roberta.pooler.dense.bias', 'roberta.pooler.dense.weight']\n",
      "You should probably TRAIN this model on a down-stream task to be able to use it for predictions and inference.\n"
     ]
    },
    {
     "name": "stdout",
     "output_type": "stream",
     "text": [
      "BERTScore: 0.7077, Recall: 0.6969, F1-Score: 0.7028\n",
      "\n",
      "BERTScore: 0.0029, Recall: 0.0927, F1-Score: 0.0490\n",
      "\n",
      "BERTScore: -0.2030, Recall: -0.1084, F1-Score: -0.1543\n",
      "\n",
      "BERTScore: -0.0119, Recall: 0.1226, F1-Score: 0.0560\n",
      "\n",
      "BERTScore: 0.1821, Recall: 0.1737, F1-Score: 0.1792\n",
      "\n",
      "BERTScore: 0.1694, Recall: 0.1703, F1-Score: 0.1712\n",
      "\n",
      "BERTScore: 0.0658, Recall: 0.2171, F1-Score: 0.1418\n",
      "\n",
      "BERTScore: -0.0520, Recall: 0.6743, F1-Score: 0.2871\n",
      "\n",
      "BERTScore: 0.8872, Recall: 0.8756, F1-Score: 0.8816\n",
      "\n",
      "BERTScore: 0.2331, Recall: 0.7442, F1-Score: 0.4775\n",
      "\n",
      "BERTScore: -0.1610, Recall: -0.0968, F1-Score: -0.1273\n",
      "\n",
      "BERTScore: -0.2724, Recall: -0.0436, F1-Score: -0.1589\n",
      "\n",
      "BERTScore: 0.1216, Recall: 0.1461, F1-Score: 0.1352\n",
      "\n",
      "BERTScore: 0.0286, Recall: 0.4039, F1-Score: 0.2107\n",
      "\n",
      "BERTScore: -0.1326, Recall: 0.2023, F1-Score: 0.0308\n",
      "\n",
      "BERTScore: 0.7121, Recall: 0.6528, F1-Score: 0.6828\n",
      "\n",
      "BERTScore: 0.0004, Recall: 0.0637, F1-Score: 0.0334\n",
      "\n",
      "BERTScore: 0.0727, Recall: -0.0306, F1-Score: 0.0221\n",
      "\n",
      "BERTScore: -0.0675, Recall: 0.1874, F1-Score: 0.0582\n",
      "\n",
      "BERTScore: 0.1232, Recall: 0.1676, F1-Score: 0.1467\n",
      "\n",
      "BERTScore: -0.1918, Recall: 0.0605, F1-Score: -0.0672\n",
      "\n",
      "BERTScore: -0.3061, Recall: 0.1909, F1-Score: -0.0685\n",
      "\n",
      "BERTScore: -0.1053, Recall: 0.5127, F1-Score: 0.1865\n",
      "\n",
      "BERTScore: -0.1767, Recall: 0.3637, F1-Score: 0.0805\n",
      "\n",
      "BERTScore: -0.1623, Recall: 0.3971, F1-Score: 0.1034\n",
      "\n",
      "BERTScore: 0.3652, Recall: 0.4288, F1-Score: 0.3978\n",
      "\n",
      "BERTScore: -0.0511, Recall: 0.2160, F1-Score: 0.0804\n",
      "\n",
      "BERTScore: -0.3784, Recall: -0.2210, F1-Score: -0.2989\n",
      "\n",
      "BERTScore: -0.2032, Recall: 0.0908, F1-Score: -0.0589\n",
      "\n",
      "BERTScore: 0.2512, Recall: 0.0549, F1-Score: 0.1525\n",
      "\n",
      "BERTScore: -0.1130, Recall: 0.0775, F1-Score: -0.0179\n",
      "\n",
      "BERTScore: -0.2525, Recall: -0.0392, F1-Score: -0.1463\n",
      "\n",
      "BERTScore: -0.2391, Recall: -0.0064, F1-Score: -0.1237\n",
      "\n",
      "BERTScore: -0.3009, Recall: 0.0297, F1-Score: -0.1394\n",
      "\n",
      "BERTScore: -0.2658, Recall: -0.0032, F1-Score: -0.1363\n",
      "\n",
      "BERTScore: -0.1554, Recall: 0.0804, F1-Score: -0.0386\n",
      "\n",
      "BERTScore: 0.5501, Recall: 0.4941, F1-Score: 0.5227\n",
      "\n",
      "BERTScore: -0.1143, Recall: 0.0511, F1-Score: -0.0313\n",
      "\n",
      "BERTScore: -0.3896, Recall: -0.1874, F1-Score: -0.2886\n",
      "\n",
      "BERTScore: -0.1988, Recall: -0.0291, F1-Score: -0.1136\n",
      "\n",
      "BERTScore: -0.1313, Recall: -0.0625, F1-Score: -0.0954\n",
      "\n",
      "BERTScore: -0.1496, Recall: -0.0360, F1-Score: -0.0917\n",
      "\n",
      "BERTScore: 0.9069, Recall: 0.4255, F1-Score: 0.6564\n",
      "\n",
      "BERTScore: 0.9472, Recall: 0.9417, F1-Score: 0.9445\n",
      "\n",
      "BERTScore: 0.3062, Recall: 0.2298, F1-Score: 0.2689\n",
      "\n",
      "BERTScore: -0.1791, Recall: -0.3058, F1-Score: -0.2413\n",
      "\n",
      "BERTScore: -0.0318, Recall: 0.0278, F1-Score: -0.0005\n",
      "\n",
      "BERTScore: 0.6628, Recall: 0.4246, F1-Score: 0.5418\n",
      "\n",
      "BERTScore: 0.1418, Recall: 0.2828, F1-Score: 0.2127\n",
      "\n",
      "BERTScore: -0.0674, Recall: -0.0323, F1-Score: -0.0482\n",
      "\n",
      "BERTScore: 0.1087, Recall: -0.1280, F1-Score: -0.0109\n",
      "\n",
      "BERTScore: -0.1800, Recall: -0.1654, F1-Score: -0.1708\n",
      "\n",
      "BERTScore: -0.2575, Recall: -0.2855, F1-Score: -0.2695\n",
      "\n",
      "BERTScore: -0.2214, Recall: -0.1012, F1-Score: -0.1601\n",
      "\n",
      "BERTScore: -0.0971, Recall: -0.1140, F1-Score: -0.1037\n",
      "\n",
      "BERTScore: -0.1118, Recall: -0.1219, F1-Score: -0.1150\n",
      "\n",
      "BERTScore: 0.1862, Recall: 0.7004, F1-Score: 0.4319\n",
      "\n",
      "BERTScore: 0.8581, Recall: 0.7862, F1-Score: 0.8222\n",
      "\n",
      "BERTScore: 0.0453, Recall: 0.2646, F1-Score: 0.1540\n",
      "\n",
      "BERTScore: -0.2433, Recall: -0.1170, F1-Score: -0.1790\n",
      "\n",
      "BERTScore: -0.1626, Recall: 0.0086, F1-Score: -0.0767\n",
      "\n",
      "BERTScore: 0.1673, Recall: 0.4262, F1-Score: 0.2947\n",
      "\n",
      "BERTScore: 0.0693, Recall: 0.4173, F1-Score: 0.2387\n",
      "\n",
      "BERTScore: -0.2636, Recall: -0.1409, F1-Score: -0.2011\n",
      "\n",
      "BERTScore: 0.2993, Recall: 0.1417, F1-Score: 0.2206\n",
      "\n",
      "BERTScore: -0.0572, Recall: -0.0112, F1-Score: -0.0326\n",
      "\n",
      "BERTScore: -0.1305, Recall: -0.1567, F1-Score: -0.1418\n",
      "\n",
      "BERTScore: -0.2591, Recall: -0.0861, F1-Score: -0.1723\n",
      "\n",
      "BERTScore: -0.1502, Recall: -0.1145, F1-Score: -0.1306\n",
      "\n",
      "BERTScore: -0.2546, Recall: -0.0669, F1-Score: -0.1607\n",
      "\n",
      "BERTScore: 0.0761, Recall: 0.4932, F1-Score: 0.2775\n",
      "\n",
      "BERTScore: 0.4717, Recall: 0.5074, F1-Score: 0.4903\n",
      "\n",
      "BERTScore: 0.0233, Recall: 0.2961, F1-Score: 0.1574\n",
      "\n",
      "BERTScore: -0.2359, Recall: 0.1552, F1-Score: -0.0464\n",
      "\n",
      "BERTScore: -0.0307, Recall: 0.2300, F1-Score: 0.0977\n",
      "\n",
      "BERTScore: -0.0008, Recall: 0.2818, F1-Score: 0.1380\n",
      "\n",
      "BERTScore: -0.0110, Recall: 0.2418, F1-Score: 0.1137\n",
      "\n",
      "BERTScore: -0.2373, Recall: -0.1979, F1-Score: -0.2157\n",
      "\n",
      "BERTScore: 0.0823, Recall: -0.2428, F1-Score: -0.0840\n",
      "\n",
      "BERTScore: -0.0441, Recall: -0.1542, F1-Score: -0.0980\n",
      "\n",
      "BERTScore: -0.1920, Recall: -0.2715, F1-Score: -0.2301\n",
      "\n",
      "BERTScore: -0.2959, Recall: -0.2174, F1-Score: -0.2550\n",
      "\n",
      "BERTScore: -0.1482, Recall: -0.1760, F1-Score: -0.1602\n",
      "\n",
      "BERTScore: -0.2000, Recall: -0.1737, F1-Score: -0.1849\n",
      "\n",
      "BERTScore: -0.0694, Recall: 0.6019, F1-Score: 0.2458\n",
      "\n",
      "BERTScore: 0.9777, Recall: 0.9778, F1-Score: 0.9778\n",
      "\n",
      "BERTScore: 0.2027, Recall: 0.6970, F1-Score: 0.4394\n",
      "\n",
      "BERTScore: -0.1628, Recall: -0.0956, F1-Score: -0.1276\n",
      "\n",
      "BERTScore: -0.0653, Recall: 0.5686, F1-Score: 0.2336\n",
      "\n",
      "BERTScore: -0.0708, Recall: 0.1308, F1-Score: 0.0295\n",
      "\n",
      "BERTScore: -0.2711, Recall: 0.0878, F1-Score: -0.0965\n",
      "\n",
      "BERTScore: -0.3129, Recall: 0.0751, F1-Score: -0.1249\n",
      "\n",
      "BERTScore: 0.6332, Recall: 0.3449, F1-Score: 0.4861\n",
      "\n",
      "BERTScore: -0.1538, Recall: -0.0205, F1-Score: -0.0863\n",
      "\n",
      "BERTScore: -0.0770, Recall: -0.2921, F1-Score: -0.1851\n",
      "\n",
      "BERTScore: -0.2705, Recall: -0.0512, F1-Score: -0.1615\n",
      "\n",
      "BERTScore: -0.2420, Recall: -0.2407, F1-Score: -0.2393\n",
      "\n",
      "BERTScore: -0.3169, Recall: -0.2917, F1-Score: -0.3022\n",
      "\n",
      "BERTScore: 0.1348, Recall: 0.1278, F1-Score: 0.1327\n",
      "\n",
      "BERTScore: 1.0000, Recall: 1.0000, F1-Score: 1.0000\n",
      "\n",
      "BERTScore: 0.6546, Recall: 0.9060, F1-Score: 0.7779\n",
      "\n",
      "BERTScore: -0.1588, Recall: -0.2346, F1-Score: -0.1951\n",
      "\n",
      "BERTScore: -0.0193, Recall: 0.1111, F1-Score: 0.0466\n",
      "\n",
      "BERTScore: 0.0967, Recall: 0.2766, F1-Score: 0.1864\n",
      "\n",
      "BERTScore: -0.0465, Recall: 0.2112, F1-Score: 0.0805\n",
      "\n",
      "BERTScore: -0.1663, Recall: 0.0554, F1-Score: -0.0563\n",
      "\n",
      "BERTScore: 0.8856, Recall: 0.8454, F1-Score: 0.8657\n",
      "\n",
      "BERTScore: -0.2073, Recall: 0.0389, F1-Score: -0.0855\n",
      "\n",
      "BERTScore: -0.0757, Recall: -0.0568, F1-Score: -0.0645\n",
      "\n",
      "BERTScore: -0.1478, Recall: 0.0812, F1-Score: -0.0343\n",
      "\n",
      "BERTScore: 0.1468, Recall: 0.2775, F1-Score: 0.2126\n",
      "\n",
      "BERTScore: -0.1834, Recall: 0.0209, F1-Score: -0.0817\n",
      "\n",
      "BERTScore: 0.1586, Recall: 0.3054, F1-Score: 0.2322\n",
      "\n",
      "BERTScore: 0.6596, Recall: 0.5001, F1-Score: 0.5794\n",
      "\n",
      "BERTScore: 0.1179, Recall: 0.2805, F1-Score: 0.1992\n",
      "\n",
      "BERTScore: -0.0239, Recall: -0.1428, F1-Score: -0.0823\n",
      "\n",
      "BERTScore: -0.0694, Recall: 0.0682, F1-Score: 0.0001\n",
      "\n",
      "BERTScore: 0.0641, Recall: 0.0787, F1-Score: 0.0729\n",
      "\n",
      "BERTScore: -0.1378, Recall: 0.0250, F1-Score: -0.0560\n",
      "\n",
      "BERTScore: 0.3232, Recall: -0.0729, F1-Score: 0.1188\n",
      "\n",
      "BERTScore: 0.9371, Recall: 0.8746, F1-Score: 0.9058\n",
      "\n",
      "BERTScore: 0.2133, Recall: -0.1124, F1-Score: 0.0467\n",
      "\n",
      "BERTScore: -0.3037, Recall: -0.3451, F1-Score: -0.3224\n",
      "\n",
      "BERTScore: 0.0058, Recall: -0.1401, F1-Score: -0.0665\n",
      "\n",
      "BERTScore: -0.0902, Recall: -0.1390, F1-Score: -0.1129\n",
      "\n",
      "BERTScore: -0.4990, Recall: -0.3363, F1-Score: -0.4168\n",
      "\n",
      "BERTScore: 0.0667, Recall: 0.1061, F1-Score: 0.0879\n",
      "\n",
      "BERTScore: 0.3567, Recall: 0.0804, F1-Score: 0.2161\n",
      "\n",
      "BERTScore: -0.0442, Recall: 0.0740, F1-Score: 0.0158\n",
      "\n",
      "BERTScore: -0.1374, Recall: -0.0015, F1-Score: -0.0686\n",
      "\n",
      "BERTScore: -0.1983, Recall: -0.0431, F1-Score: -0.1201\n",
      "\n",
      "BERTScore: -0.0288, Recall: 0.0841, F1-Score: 0.0286\n",
      "\n",
      "BERTScore: 0.0335, Recall: 0.1032, F1-Score: 0.0696\n",
      "\n",
      "BERTScore: 0.3804, Recall: 0.3239, F1-Score: 0.3531\n",
      "\n",
      "BERTScore: 0.7490, Recall: 0.4013, F1-Score: 0.5704\n",
      "\n",
      "BERTScore: 0.5081, Recall: 0.3230, F1-Score: 0.4149\n",
      "\n",
      "BERTScore: -0.1665, Recall: -0.2190, F1-Score: -0.1910\n",
      "\n",
      "BERTScore: -0.0391, Recall: 0.0895, F1-Score: 0.0259\n",
      "\n",
      "BERTScore: 0.6442, Recall: 0.3580, F1-Score: 0.4982\n",
      "\n",
      "BERTScore: 0.4174, Recall: 0.2922, F1-Score: 0.3551\n",
      "\n",
      "BERTScore: -0.2821, Recall: -0.3910, F1-Score: -0.3350\n",
      "\n",
      "BERTScore: -0.2194, Recall: -0.4874, F1-Score: -0.3551\n",
      "\n",
      "BERTScore: -0.2152, Recall: -0.3598, F1-Score: -0.2865\n",
      "\n",
      "BERTScore: -0.0656, Recall: -0.3362, F1-Score: -0.2028\n",
      "\n",
      "BERTScore: -0.3229, Recall: -0.4566, F1-Score: -0.3885\n",
      "\n",
      "BERTScore: -0.2373, Recall: -0.3915, F1-Score: -0.3135\n",
      "\n",
      "BERTScore: -0.3103, Recall: -0.3968, F1-Score: -0.3517\n",
      "\n",
      "BERTScore: -0.0408, Recall: 0.2626, F1-Score: 0.1078\n",
      "\n",
      "BERTScore: 0.8541, Recall: 0.8009, F1-Score: 0.8276\n",
      "\n",
      "BERTScore: 0.0653, Recall: 0.3728, F1-Score: 0.2158\n",
      "\n",
      "BERTScore: -0.0173, Recall: -0.0806, F1-Score: -0.0474\n",
      "\n",
      "BERTScore: 0.0261, Recall: 0.5840, F1-Score: 0.2913\n",
      "\n",
      "BERTScore: -0.0011, Recall: 0.2129, F1-Score: 0.1051\n",
      "\n",
      "BERTScore: -0.0739, Recall: 0.2057, F1-Score: 0.0635\n",
      "\n",
      "BERTScore: -0.1233, Recall: 0.1662, F1-Score: 0.0188\n",
      "\n",
      "BERTScore: 0.4196, Recall: 0.1409, F1-Score: 0.2777\n",
      "\n",
      "BERTScore: 0.0484, Recall: 0.0488, F1-Score: 0.0501\n",
      "\n",
      "BERTScore: -0.1654, Recall: -0.2731, F1-Score: -0.2179\n",
      "\n",
      "BERTScore: -0.1204, Recall: -0.0098, F1-Score: -0.0640\n",
      "\n",
      "BERTScore: -0.1712, Recall: -0.0754, F1-Score: -0.1220\n",
      "\n",
      "BERTScore: -0.0508, Recall: -0.0328, F1-Score: -0.0401\n",
      "\n",
      "BERTScore: 0.3564, Recall: 0.6696, F1-Score: 0.5093\n",
      "\n",
      "BERTScore: 0.9759, Recall: 0.8999, F1-Score: 0.9378\n",
      "\n",
      "BERTScore: 0.0920, Recall: 0.1619, F1-Score: 0.1281\n",
      "\n",
      "BERTScore: -0.1921, Recall: -0.2751, F1-Score: -0.2319\n",
      "\n",
      "BERTScore: 0.0086, Recall: 0.0808, F1-Score: 0.0460\n",
      "\n",
      "BERTScore: 0.5394, Recall: 0.4893, F1-Score: 0.5150\n",
      "\n",
      "BERTScore: 0.1111, Recall: 0.3046, F1-Score: 0.2073\n",
      "\n",
      "BERTScore: -0.1428, Recall: -0.3422, F1-Score: -0.2426\n",
      "\n",
      "BERTScore: 0.6676, Recall: -0.1306, F1-Score: 0.2391\n",
      "\n",
      "BERTScore: -0.1570, Recall: -0.4046, F1-Score: -0.2820\n",
      "\n",
      "BERTScore: -0.2540, Recall: -0.4775, F1-Score: -0.3663\n",
      "\n",
      "BERTScore: -0.1272, Recall: -0.4099, F1-Score: -0.2707\n",
      "\n",
      "BERTScore: -0.0555, Recall: -0.3934, F1-Score: -0.2285\n",
      "\n",
      "BERTScore: -0.2117, Recall: -0.4222, F1-Score: -0.3172\n",
      "\n",
      "BERTScore: 0.0637, Recall: -0.1088, F1-Score: -0.0224\n",
      "\n",
      "BERTScore: 0.9554, Recall: 0.9430, F1-Score: 0.9493\n",
      "\n",
      "BERTScore: 0.0242, Recall: -0.1167, F1-Score: -0.0456\n",
      "\n",
      "BERTScore: -0.2187, Recall: -0.3020, F1-Score: -0.2586\n",
      "\n",
      "BERTScore: -0.2685, Recall: -0.2854, F1-Score: -0.2749\n",
      "\n",
      "BERTScore: 0.0213, Recall: -0.2027, F1-Score: -0.0915\n",
      "\n",
      "BERTScore: -0.0886, Recall: -0.1734, F1-Score: -0.1295\n",
      "\n",
      "BERTScore: -0.0537, Recall: 0.0939, F1-Score: 0.0206\n",
      "\n",
      "BERTScore: 0.6945, Recall: 0.7119, F1-Score: 0.7037\n",
      "\n",
      "BERTScore: 0.0858, Recall: 0.1604, F1-Score: 0.1243\n",
      "\n",
      "BERTScore: -0.1358, Recall: -0.2276, F1-Score: -0.1802\n",
      "\n",
      "BERTScore: 0.0163, Recall: 0.1496, F1-Score: 0.0836\n",
      "\n",
      "BERTScore: -0.0896, Recall: 0.0115, F1-Score: -0.0379\n",
      "\n",
      "BERTScore: -0.1292, Recall: 0.0026, F1-Score: -0.0624\n",
      "\n",
      "BERTScore: 0.0516, Recall: 0.7445, F1-Score: 0.3766\n",
      "\n",
      "BERTScore: 0.9427, Recall: 0.8621, F1-Score: 0.9023\n",
      "\n",
      "BERTScore: 0.1649, Recall: 0.2379, F1-Score: 0.2024\n",
      "\n",
      "BERTScore: 0.1703, Recall: -0.1781, F1-Score: -0.0084\n",
      "\n",
      "BERTScore: -0.0118, Recall: 0.2329, F1-Score: 0.1090\n",
      "\n",
      "BERTScore: 0.1252, Recall: 0.7149, F1-Score: 0.4048\n",
      "\n",
      "BERTScore: -0.1313, Recall: 0.4833, F1-Score: 0.1589\n",
      "\n",
      "BERTScore: 0.0071, Recall: 0.3931, F1-Score: 0.1941\n",
      "\n",
      "BERTScore: 0.4468, Recall: 0.3818, F1-Score: 0.4150\n",
      "\n",
      "BERTScore: -0.0031, Recall: 0.3790, F1-Score: 0.1822\n",
      "\n",
      "BERTScore: -0.2150, Recall: 0.0188, F1-Score: -0.0991\n",
      "\n",
      "BERTScore: -0.1280, Recall: 0.3424, F1-Score: 0.0977\n",
      "\n",
      "BERTScore: -0.0624, Recall: 0.0842, F1-Score: 0.0114\n",
      "\n",
      "BERTScore: -0.2001, Recall: 0.2330, F1-Score: 0.0086\n",
      "\n",
      "BERTScore: 0.7561, Recall: 0.1771, F1-Score: 0.4520\n",
      "\n",
      "BERTScore: 0.8130, Recall: 0.7773, F1-Score: 0.7954\n",
      "\n",
      "BERTScore: 0.7281, Recall: 0.2237, F1-Score: 0.4650\n",
      "\n",
      "BERTScore: -0.1416, Recall: -0.3228, F1-Score: -0.2319\n",
      "\n",
      "BERTScore: 0.2048, Recall: 0.0198, F1-Score: 0.1121\n",
      "\n",
      "BERTScore: 0.2719, Recall: -0.1481, F1-Score: 0.0546\n",
      "\n",
      "BERTScore: 0.2569, Recall: -0.0288, F1-Score: 0.1114\n",
      "\n",
      "BERTScore: 0.0652, Recall: 0.0660, F1-Score: 0.0671\n",
      "\n",
      "BERTScore: 0.8752, Recall: 0.7954, F1-Score: 0.8353\n",
      "\n",
      "BERTScore: 0.2197, Recall: 0.1613, F1-Score: 0.1916\n",
      "\n",
      "BERTScore: -0.2098, Recall: -0.1237, F1-Score: -0.1653\n",
      "\n",
      "BERTScore: 0.0356, Recall: 0.1247, F1-Score: 0.0813\n",
      "\n",
      "BERTScore: 0.1031, Recall: 0.0671, F1-Score: 0.0865\n",
      "\n",
      "BERTScore: -0.0942, Recall: 0.0617, F1-Score: -0.0158\n",
      "\n",
      "BERTScore: -0.0166, Recall: -0.0926, F1-Score: -0.0532\n",
      "\n",
      "BERTScore: 0.3636, Recall: 0.3387, F1-Score: 0.3522\n",
      "\n",
      "BERTScore: -0.0234, Recall: -0.0585, F1-Score: -0.0394\n",
      "\n",
      "BERTScore: -0.1765, Recall: -0.1428, F1-Score: -0.1578\n",
      "\n",
      "BERTScore: -0.1281, Recall: -0.0255, F1-Score: -0.0756\n",
      "\n",
      "BERTScore: -0.1145, Recall: -0.1016, F1-Score: -0.1062\n",
      "\n",
      "BERTScore: -0.0772, Recall: -0.1383, F1-Score: -0.1062\n",
      "\n",
      "BERTScore: 0.8044, Recall: 0.3711, F1-Score: 0.5799\n",
      "\n",
      "BERTScore: 0.7817, Recall: 0.7936, F1-Score: 0.7880\n",
      "\n",
      "BERTScore: -0.0150, Recall: -0.1135, F1-Score: -0.0630\n",
      "\n",
      "BERTScore: -0.2017, Recall: -0.2289, F1-Score: -0.2134\n",
      "\n",
      "BERTScore: -0.1050, Recall: -0.1178, F1-Score: -0.1096\n",
      "\n",
      "BERTScore: 0.6361, Recall: 0.1320, F1-Score: 0.3732\n",
      "\n",
      "BERTScore: 0.1871, Recall: -0.0568, F1-Score: 0.0637\n",
      "\n",
      "BERTScore: 0.1784, Recall: 0.5852, F1-Score: 0.3750\n",
      "\n",
      "BERTScore: 0.9093, Recall: 0.8578, F1-Score: 0.8836\n",
      "\n",
      "BERTScore: 0.0079, Recall: 0.1258, F1-Score: 0.0677\n",
      "\n",
      "BERTScore: -0.0774, Recall: -0.0264, F1-Score: -0.0503\n",
      "\n",
      "BERTScore: -0.1399, Recall: 0.1080, F1-Score: -0.0174\n",
      "\n",
      "BERTScore: -0.0199, Recall: 0.1496, F1-Score: 0.0649\n",
      "\n",
      "BERTScore: -0.1135, Recall: 0.2262, F1-Score: 0.0521\n",
      "\n",
      "BERTScore: 0.2959, Recall: 0.6415, F1-Score: 0.4640\n",
      "\n",
      "BERTScore: 0.8203, Recall: 0.8356, F1-Score: 0.8282\n",
      "\n",
      "BERTScore: -0.0267, Recall: -0.0075, F1-Score: -0.0155\n",
      "\n",
      "BERTScore: -0.0683, Recall: -0.1664, F1-Score: -0.1160\n",
      "\n",
      "BERTScore: 0.0251, Recall: -0.0640, F1-Score: -0.0182\n",
      "\n",
      "BERTScore: -0.1097, Recall: -0.0434, F1-Score: -0.0750\n",
      "\n",
      "BERTScore: -0.0258, Recall: -0.0320, F1-Score: -0.0272\n",
      "\n",
      "BERTScore: 0.2651, Recall: 0.7542, F1-Score: 0.4995\n",
      "\n",
      "BERTScore: 0.8682, Recall: 0.7663, F1-Score: 0.8171\n",
      "\n",
      "BERTScore: 0.8832, Recall: 0.8021, F1-Score: 0.8426\n",
      "\n",
      "BERTScore: -0.1838, Recall: -0.1334, F1-Score: -0.1569\n",
      "\n",
      "BERTScore: -0.1312, Recall: -0.0318, F1-Score: -0.0803\n",
      "\n",
      "BERTScore: 0.7615, Recall: 0.6611, F1-Score: 0.7113\n",
      "\n",
      "BERTScore: 0.6914, Recall: 0.6984, F1-Score: 0.6954\n",
      "\n",
      "BERTScore: 0.1068, Recall: 0.4977, F1-Score: 0.2961\n",
      "\n",
      "BERTScore: 0.8212, Recall: 0.8112, F1-Score: 0.8165\n",
      "\n",
      "BERTScore: 0.2781, Recall: 0.5301, F1-Score: 0.4021\n",
      "\n",
      "BERTScore: 0.1054, Recall: -0.0197, F1-Score: 0.0436\n",
      "\n",
      "BERTScore: -0.1563, Recall: 0.0814, F1-Score: -0.0387\n",
      "\n",
      "BERTScore: -0.0610, Recall: 0.0780, F1-Score: 0.0092\n",
      "\n",
      "BERTScore: -0.1783, Recall: 0.0160, F1-Score: -0.0813\n",
      "\n",
      "BERTScore: -0.1687, Recall: 0.2731, F1-Score: 0.0440\n",
      "\n",
      "BERTScore: 0.7326, Recall: 0.6534, F1-Score: 0.6932\n",
      "\n",
      "BERTScore: -0.0017, Recall: 0.1530, F1-Score: 0.0760\n",
      "\n",
      "BERTScore: -0.2580, Recall: -0.2497, F1-Score: -0.2518\n",
      "\n",
      "BERTScore: -0.1001, Recall: -0.0105, F1-Score: -0.0540\n",
      "\n",
      "BERTScore: 0.1113, Recall: 0.0641, F1-Score: 0.0891\n",
      "\n",
      "BERTScore: -0.0670, Recall: 0.0309, F1-Score: -0.0169\n",
      "\n",
      "BERTScore: 0.0440, Recall: 0.6493, F1-Score: 0.3304\n",
      "\n",
      "BERTScore: 0.8444, Recall: 0.8266, F1-Score: 0.8358\n",
      "\n",
      "BERTScore: 0.5615, Recall: 0.7766, F1-Score: 0.6675\n",
      "\n",
      "BERTScore: -0.1378, Recall: -0.2925, F1-Score: -0.2145\n",
      "\n",
      "BERTScore: 0.0941, Recall: 0.3523, F1-Score: 0.2212\n",
      "\n",
      "BERTScore: 0.1948, Recall: 0.2378, F1-Score: 0.2175\n",
      "\n",
      "BERTScore: -0.0065, Recall: 0.3220, F1-Score: 0.1539\n",
      "\n",
      "BERTScore: 0.4308, Recall: 0.8481, F1-Score: 0.6323\n",
      "\n",
      "BERTScore: 0.8917, Recall: 0.8935, F1-Score: 0.8928\n",
      "\n",
      "BERTScore: 0.1239, Recall: 0.1921, F1-Score: 0.1591\n",
      "\n",
      "BERTScore: -0.1500, Recall: -0.0525, F1-Score: -0.1000\n",
      "\n",
      "BERTScore: -0.1977, Recall: -0.0274, F1-Score: -0.1123\n",
      "\n",
      "BERTScore: 0.5592, Recall: 0.9079, F1-Score: 0.7286\n",
      "\n",
      "BERTScore: 0.3775, Recall: 0.7694, F1-Score: 0.5672\n",
      "\n",
      "BERTScore: -0.0364, Recall: 0.1543, F1-Score: 0.0586\n",
      "\n",
      "BERTScore: 0.8912, Recall: 0.8204, F1-Score: 0.8558\n",
      "\n",
      "BERTScore: -0.1780, Recall: 0.1412, F1-Score: -0.0219\n",
      "\n",
      "BERTScore: -0.1222, Recall: 0.0853, F1-Score: -0.0190\n",
      "\n",
      "BERTScore: -0.0660, Recall: 0.1275, F1-Score: 0.0304\n",
      "\n",
      "BERTScore: -0.0216, Recall: 0.1940, F1-Score: 0.0854\n",
      "\n",
      "BERTScore: 0.0493, Recall: 0.1859, F1-Score: 0.1181\n",
      "\n",
      "BERTScore: 0.4919, Recall: 0.0668, F1-Score: 0.2719\n",
      "\n",
      "BERTScore: 0.8896, Recall: 0.8843, F1-Score: 0.8872\n",
      "\n",
      "BERTScore: 0.1550, Recall: -0.2393, F1-Score: -0.0484\n",
      "\n",
      "BERTScore: 0.0571, Recall: -0.5521, F1-Score: -0.2653\n",
      "\n",
      "BERTScore: 0.1818, Recall: -0.0866, F1-Score: 0.0455\n",
      "\n",
      "BERTScore: 0.4589, Recall: -0.1633, F1-Score: 0.1302\n",
      "\n",
      "BERTScore: 0.1071, Recall: -0.0091, F1-Score: 0.0499\n",
      "\n",
      "BERTScore: 0.0560, Recall: 0.5956, F1-Score: 0.3131\n",
      "\n",
      "BERTScore: 0.8415, Recall: 0.7842, F1-Score: 0.8130\n",
      "\n",
      "BERTScore: -0.1592, Recall: 0.0778, F1-Score: -0.0419\n",
      "\n",
      "BERTScore: 0.0959, Recall: -0.1991, F1-Score: -0.0544\n",
      "\n",
      "BERTScore: -0.1940, Recall: 0.1848, F1-Score: -0.0102\n",
      "\n",
      "BERTScore: -0.1079, Recall: 0.0554, F1-Score: -0.0259\n",
      "\n",
      "BERTScore: 0.0009, Recall: 0.5773, F1-Score: 0.2744\n",
      "\n",
      "BERTScore: 0.0862, Recall: 0.4137, F1-Score: 0.2460\n",
      "\n",
      "BERTScore: 0.8029, Recall: 0.5439, F1-Score: 0.6709\n",
      "\n",
      "BERTScore: 0.2459, Recall: 0.4595, F1-Score: 0.3516\n",
      "\n",
      "BERTScore: -0.1009, Recall: -0.3884, F1-Score: -0.2471\n",
      "\n",
      "BERTScore: -0.1584, Recall: -0.2541, F1-Score: -0.2047\n",
      "\n",
      "BERTScore: -0.1006, Recall: -0.0899, F1-Score: -0.0935\n",
      "\n",
      "BERTScore: -0.2651, Recall: -0.2018, F1-Score: -0.2317\n",
      "\n",
      "BERTScore: -0.2762, Recall: -0.0189, F1-Score: -0.1492\n",
      "\n",
      "BERTScore: 0.8578, Recall: 0.7488, F1-Score: 0.8031\n",
      "\n",
      "BERTScore: -0.1438, Recall: 0.0499, F1-Score: -0.0471\n",
      "\n",
      "BERTScore: -0.2462, Recall: -0.1054, F1-Score: -0.1749\n",
      "\n",
      "BERTScore: -0.3119, Recall: -0.0622, F1-Score: -0.1884\n",
      "\n",
      "BERTScore: -0.0839, Recall: 0.0307, F1-Score: -0.0256\n",
      "\n",
      "BERTScore: -0.4031, Recall: -0.0310, F1-Score: -0.2224\n",
      "\n",
      "BERTScore: -0.0750, Recall: -0.2649, F1-Score: -0.1699\n",
      "\n",
      "BERTScore: 0.7769, Recall: 0.2424, F1-Score: 0.4973\n",
      "\n",
      "BERTScore: -0.0255, Recall: -0.2895, F1-Score: -0.1593\n",
      "\n",
      "BERTScore: -0.1482, Recall: -0.3609, F1-Score: -0.2549\n",
      "\n",
      "BERTScore: -0.1265, Recall: -0.3060, F1-Score: -0.2160\n",
      "\n",
      "BERTScore: -0.2443, Recall: -0.3161, F1-Score: -0.2784\n",
      "\n",
      "BERTScore: -0.1756, Recall: -0.3058, F1-Score: -0.2396\n",
      "\n",
      "BERTScore: -0.0785, Recall: 0.0186, F1-Score: -0.0288\n",
      "\n",
      "BERTScore: 0.0847, Recall: 0.0144, F1-Score: 0.0509\n",
      "\n",
      "BERTScore: 0.1277, Recall: 0.1542, F1-Score: 0.1423\n",
      "\n",
      "BERTScore: -0.3385, Recall: -0.1557, F1-Score: -0.2468\n",
      "\n",
      "BERTScore: -0.1203, Recall: -0.0210, F1-Score: -0.0694\n",
      "\n",
      "BERTScore: -0.1822, Recall: -0.0653, F1-Score: -0.1226\n",
      "\n",
      "BERTScore: -0.1312, Recall: 0.0233, F1-Score: -0.0535\n",
      "\n",
      "BERTScore: -0.0813, Recall: 0.2945, F1-Score: 0.1011\n",
      "\n",
      "BERTScore: 0.5837, Recall: 0.4498, F1-Score: 0.5167\n",
      "\n",
      "BERTScore: -0.1640, Recall: 0.1380, F1-Score: -0.0160\n",
      "\n",
      "BERTScore: -0.0997, Recall: 0.0183, F1-Score: -0.0397\n",
      "\n",
      "BERTScore: -0.1024, Recall: 0.0722, F1-Score: -0.0150\n",
      "\n",
      "BERTScore: 0.0931, Recall: 0.2697, F1-Score: 0.1812\n",
      "\n",
      "BERTScore: -0.0836, Recall: 0.1968, F1-Score: 0.0542\n",
      "\n",
      "BERTScore: 0.0110, Recall: 0.2277, F1-Score: 0.1185\n",
      "\n",
      "BERTScore: 0.6897, Recall: 0.5571, F1-Score: 0.6232\n",
      "\n",
      "BERTScore: -0.1940, Recall: 0.2006, F1-Score: -0.0029\n",
      "\n",
      "BERTScore: -0.1160, Recall: 0.0827, F1-Score: -0.0170\n",
      "\n",
      "BERTScore: -0.2091, Recall: 0.0995, F1-Score: -0.0580\n",
      "\n",
      "BERTScore: 0.0750, Recall: 0.1786, F1-Score: 0.1277\n",
      "\n",
      "BERTScore: 0.0415, Recall: 0.1600, F1-Score: 0.1016\n",
      "\n",
      "BERTScore: -0.2626, Recall: -0.0092, F1-Score: -0.1374\n",
      "\n",
      "BERTScore: 0.3189, Recall: 0.1808, F1-Score: 0.2501\n",
      "\n",
      "BERTScore: -0.0230, Recall: 0.0035, F1-Score: -0.0081\n",
      "\n",
      "BERTScore: 0.0704, Recall: -0.4168, F1-Score: -0.1838\n",
      "\n",
      "BERTScore: -0.3543, Recall: 0.0158, F1-Score: -0.1745\n",
      "\n",
      "BERTScore: -0.2311, Recall: -0.1123, F1-Score: -0.1705\n",
      "\n",
      "BERTScore: -0.3146, Recall: -0.0737, F1-Score: -0.1953\n",
      "\n",
      "BERTScore: -0.3441, Recall: 0.0299, F1-Score: -0.1625\n",
      "\n",
      "BERTScore: 0.3695, Recall: 0.2737, F1-Score: 0.3223\n",
      "\n",
      "BERTScore: -0.2095, Recall: -0.0237, F1-Score: -0.1166\n",
      "\n",
      "BERTScore: -0.2830, Recall: -0.1941, F1-Score: -0.2369\n",
      "\n",
      "BERTScore: -0.3508, Recall: -0.1368, F1-Score: -0.2442\n",
      "\n",
      "BERTScore: -0.0518, Recall: 0.0215, F1-Score: -0.0138\n",
      "\n",
      "BERTScore: -0.2715, Recall: -0.0095, F1-Score: -0.1422\n",
      "\n",
      "BERTScore: -0.0007, Recall: 0.0583, F1-Score: 0.0302\n",
      "\n",
      "BERTScore: 0.6197, Recall: 0.4909, F1-Score: 0.5553\n",
      "\n",
      "BERTScore: -0.1318, Recall: -0.0402, F1-Score: -0.0847\n",
      "\n",
      "BERTScore: -0.1406, Recall: -0.1466, F1-Score: -0.1418\n",
      "\n",
      "BERTScore: -0.1981, Recall: -0.0581, F1-Score: -0.1273\n",
      "\n",
      "BERTScore: -0.1477, Recall: 0.0314, F1-Score: -0.0581\n",
      "\n",
      "BERTScore: -0.0302, Recall: 0.0744, F1-Score: 0.0232\n",
      "\n",
      "BERTScore: 0.0380, Recall: 0.0682, F1-Score: 0.0546\n",
      "\n",
      "BERTScore: 0.5740, Recall: 0.4215, F1-Score: 0.4975\n",
      "\n",
      "BERTScore: 0.0644, Recall: 0.1060, F1-Score: 0.0866\n",
      "\n",
      "BERTScore: -0.1882, Recall: -0.1842, F1-Score: -0.1843\n",
      "\n",
      "BERTScore: -0.0493, Recall: 0.1081, F1-Score: 0.0298\n",
      "\n",
      "BERTScore: 0.0969, Recall: 0.2232, F1-Score: 0.1606\n",
      "\n",
      "BERTScore: 0.0140, Recall: 0.1662, F1-Score: 0.0904\n",
      "\n",
      "BERTScore: -0.2090, Recall: -0.0097, F1-Score: -0.1096\n",
      "\n",
      "BERTScore: 0.8197, Recall: 0.7127, F1-Score: 0.7661\n",
      "\n",
      "BERTScore: 0.0330, Recall: 0.1177, F1-Score: 0.0765\n",
      "\n",
      "BERTScore: 0.0430, Recall: -0.1893, F1-Score: -0.0742\n",
      "\n",
      "BERTScore: -0.1564, Recall: -0.0552, F1-Score: -0.1045\n",
      "\n",
      "BERTScore: -0.1250, Recall: 0.0341, F1-Score: -0.0451\n",
      "\n",
      "BERTScore: -0.1249, Recall: 0.0620, F1-Score: -0.0315\n",
      "\n",
      "BERTScore: -0.2566, Recall: -0.0423, F1-Score: -0.1500\n",
      "\n",
      "BERTScore: 0.4548, Recall: 0.1472, F1-Score: 0.2976\n",
      "\n",
      "BERTScore: -0.2047, Recall: -0.0229, F1-Score: -0.1137\n",
      "\n",
      "BERTScore: -0.2222, Recall: -0.1056, F1-Score: -0.1627\n",
      "\n",
      "BERTScore: -0.1909, Recall: -0.0207, F1-Score: -0.1055\n",
      "\n",
      "BERTScore: -0.3410, Recall: -0.0264, F1-Score: -0.1870\n",
      "\n",
      "BERTScore: -0.3335, Recall: -0.0561, F1-Score: -0.1969\n",
      "\n",
      "BERTScore: -0.1062, Recall: 0.2817, F1-Score: 0.0818\n",
      "\n",
      "BERTScore: 0.8383, Recall: 0.7778, F1-Score: 0.8082\n",
      "\n",
      "BERTScore: -0.0549, Recall: 0.2324, F1-Score: 0.0862\n",
      "\n",
      "BERTScore: -0.0232, Recall: -0.0671, F1-Score: -0.0436\n",
      "\n",
      "BERTScore: -0.2758, Recall: 0.1163, F1-Score: -0.0859\n",
      "\n",
      "BERTScore: -0.1144, Recall: 0.0729, F1-Score: -0.0209\n",
      "\n",
      "BERTScore: -0.2131, Recall: 0.0732, F1-Score: -0.0724\n",
      "\n",
      "BERTScore: -0.1829, Recall: 0.2027, F1-Score: 0.0040\n",
      "\n",
      "BERTScore: 0.8607, Recall: 0.8023, F1-Score: 0.8316\n",
      "\n",
      "BERTScore: 0.0277, Recall: 0.2335, F1-Score: 0.1299\n",
      "\n",
      "BERTScore: 0.1226, Recall: 0.1271, F1-Score: 0.1263\n",
      "\n",
      "BERTScore: -0.0975, Recall: 0.2574, F1-Score: 0.0752\n",
      "\n",
      "BERTScore: -0.1141, Recall: 0.2359, F1-Score: 0.0563\n",
      "\n",
      "BERTScore: -0.1141, Recall: 0.2359, F1-Score: 0.0563\n",
      "\n",
      "BERTScore: 0.0478, Recall: -0.1193, F1-Score: -0.0355\n",
      "\n",
      "BERTScore: 0.5334, Recall: 0.3146, F1-Score: 0.4227\n",
      "\n",
      "BERTScore: 0.0695, Recall: -0.0539, F1-Score: 0.0086\n",
      "\n",
      "BERTScore: -0.0733, Recall: -0.2564, F1-Score: -0.1647\n",
      "\n",
      "BERTScore: -0.1374, Recall: -0.0938, F1-Score: -0.1138\n",
      "\n",
      "BERTScore: -0.0845, Recall: -0.1500, F1-Score: -0.1157\n",
      "\n",
      "BERTScore: -0.0005, Recall: -0.1279, F1-Score: -0.0633\n",
      "\n",
      "BERTScore: -0.0751, Recall: 0.3111, F1-Score: 0.1121\n",
      "\n",
      "BERTScore: 0.6174, Recall: 0.4904, F1-Score: 0.5538\n",
      "\n",
      "BERTScore: -0.2529, Recall: 0.1063, F1-Score: -0.0781\n",
      "\n",
      "BERTScore: -0.1218, Recall: -0.1413, F1-Score: -0.1297\n",
      "\n",
      "BERTScore: 0.0411, Recall: 0.3022, F1-Score: 0.1697\n",
      "\n",
      "BERTScore: -0.0235, Recall: 0.1925, F1-Score: 0.0837\n",
      "\n",
      "BERTScore: -0.0101, Recall: 0.2083, F1-Score: 0.0982\n",
      "\n",
      "BERTScore: -0.1526, Recall: 0.4007, F1-Score: 0.1104\n",
      "\n",
      "BERTScore: 0.7337, Recall: 0.7110, F1-Score: 0.7228\n",
      "\n",
      "BERTScore: -0.1839, Recall: 0.2938, F1-Score: 0.0451\n",
      "\n",
      "BERTScore: -0.0478, Recall: 0.0105, F1-Score: -0.0172\n",
      "\n",
      "BERTScore: -0.0907, Recall: 0.2312, F1-Score: 0.0666\n",
      "\n",
      "BERTScore: -0.1270, Recall: 0.1885, F1-Score: 0.0273\n",
      "\n",
      "BERTScore: -0.0774, Recall: 0.3369, F1-Score: 0.1227\n",
      "\n"
     ]
    }
   ],
   "source": [
    "# initialize BERTScorer\n",
    "scorer = BERTScorer(lang=\"en\", rescale_with_baseline=True)\n",
    "\n",
    "# calculate BERTScore\n",
    "P, R, F = scorer.score(generated_texts, reference_texts)\n",
    "\n",
    "# print BERTScore\n",
    "for i in range(len(generated_texts)):\n",
    "    print(f\"BERTScore: {P[i].item():.4f}, Recall: {R[i].item():.4f}, F1-Score: {F[i].item():.4f}\\n\")\n"
   ]
  },
  {
   "cell_type": "code",
   "execution_count": null,
   "metadata": {
    "colab": {
     "base_uri": "https://localhost:8080/"
    },
    "id": "-SspMJxEnTEa",
    "outputId": "0e13f53a-6170-440a-9d36-48e8356f54f5"
   },
   "outputs": [
    {
     "name": "stdout",
     "output_type": "stream",
     "text": [
      "Spearman correlation of BERTScore: 0.1694246568287391\n",
      "P-value of BERTScore: 0.0004883511314455359\n"
     ]
    }
   ],
   "source": [
    "from scipy.stats import spearmanr\n",
    "\n",
    "# Calculate Spearman correlation between ROUGE-1 and COH\n",
    "corr, p_value = spearmanr(F, coh)\n",
    "\n",
    "print(f\"Spearman correlation of BERTScore: {corr}\")\n",
    "print(f\"P-value of BERTScore: {p_value}\")"
   ]
  },
  {
   "cell_type": "code",
   "execution_count": null,
   "metadata": {
    "colab": {
     "base_uri": "https://localhost:8080/"
    },
    "id": "BgnIfLowoDYZ",
    "outputId": "3a96ca57-eb95-4628-fb65-686bee72f018"
   },
   "outputs": [
    {
     "name": "stdout",
     "output_type": "stream",
     "text": [
      "Spearman correlation: 0.15406962938632385\n",
      "P-value: 0.0015401641155744902\n"
     ]
    }
   ],
   "source": [
    "from scipy.stats import spearmanr\n",
    "\n",
    "# Calculate Spearman correlation between ROUGE-1 and COH\n",
    "corr, p_value = spearmanr(F, flu)\n",
    "\n",
    "print(f\"Spearman correlation: {corr}\")\n",
    "print(f\"P-value: {p_value}\")"
   ]
  },
  {
   "cell_type": "code",
   "execution_count": null,
   "metadata": {
    "colab": {
     "base_uri": "https://localhost:8080/"
    },
    "id": "2IzqII6npNly",
    "outputId": "bbfd236c-3db7-4439-a92d-253755202971"
   },
   "outputs": [
    {
     "name": "stdout",
     "output_type": "stream",
     "text": [
      "Spearman correlation: 0.10763894433819626\n",
      "P-value: 0.02739942574786073\n"
     ]
    }
   ],
   "source": [
    "from scipy.stats import spearmanr\n",
    "\n",
    "# Calculate Spearman correlation between ROUGE-1 and COH\n",
    "corr, p_value = spearmanr(mover_scores, flu)\n",
    "\n",
    "print(f\"Spearman correlation: {corr}\")\n",
    "print(f\"P-value: {p_value}\")"
   ]
  },
  {
   "cell_type": "code",
   "execution_count": null,
   "metadata": {
    "id": "sNPLtA_Qe0MR"
   },
   "outputs": [],
   "source": []
  },
  {
   "cell_type": "code",
   "execution_count": null,
   "metadata": {
    "colab": {
     "base_uri": "https://localhost:8080/"
    },
    "id": "SupH4uBnquJP",
    "outputId": "b4e1084e-1ba9-46a2-ed5e-64f1d5265841"
   },
   "outputs": [
    {
     "name": "stdout",
     "output_type": "stream",
     "text": [
      "Spearman correlation: 0.19615354758472714\n",
      "P-value: 5.1799283857121995e-05\n"
     ]
    }
   ],
   "source": [
    "from scipy.stats import spearmanr\n",
    "\n",
    "# Calculate Spearman correlation between ROUGE-1 and COH\n",
    "corr, p_value = spearmanr(F, info)\n",
    "\n",
    "print(f\"Spearman correlation: {corr}\")\n",
    "print(f\"P-value: {p_value}\")"
   ]
  },
  {
   "cell_type": "code",
   "execution_count": null,
   "metadata": {
    "colab": {
     "base_uri": "https://localhost:8080/"
    },
    "id": "Av-v3yAyrI7z",
    "outputId": "47d9ea17-fabd-4878-ecda-b6dba629eb05"
   },
   "outputs": [
    {
     "name": "stdout",
     "output_type": "stream",
     "text": [
      "Spearman correlation: 0.22599638693025603\n",
      "P-value: 2.8911047936252053e-06\n"
     ]
    }
   ],
   "source": [
    "from scipy.stats import spearmanr\n",
    "\n",
    "# Calculate Spearman correlation between ROUGE-1 and COH\n",
    "corr, p_value = spearmanr(mover_scores,info)\n",
    "\n",
    "print(f\"Spearman correlation: {corr}\")\n",
    "print(f\"P-value: {p_value}\")"
   ]
  },
  {
   "cell_type": "code",
   "execution_count": null,
   "metadata": {
    "colab": {
     "base_uri": "https://localhost:8080/"
    },
    "id": "Y8K0KnFurUgB",
    "outputId": "f3090316-31d3-4f7e-b9d1-54a7a0934cae"
   },
   "outputs": [
    {
     "name": "stdout",
     "output_type": "stream",
     "text": [
      "Spearman correlation: 0.17634863442108228\n",
      "P-value: 0.00028144795501462147\n"
     ]
    }
   ],
   "source": [
    "from scipy.stats import spearmanr\n",
    "\n",
    "# Calculate Spearman correlation between ROUGE-1 and COH\n",
    "corr, p_value = spearmanr(F, rel)\n",
    "\n",
    "print(f\"Spearman correlation: {corr}\")\n",
    "print(f\"P-value: {p_value}\")"
   ]
  },
  {
   "cell_type": "code",
   "execution_count": null,
   "metadata": {
    "colab": {
     "base_uri": "https://localhost:8080/"
    },
    "id": "CortESk9rdSz",
    "outputId": "dafdc9f3-bc12-42ca-e0f6-aa39dc1d2c59"
   },
   "outputs": [
    {
     "name": "stdout",
     "output_type": "stream",
     "text": [
      "Spearman correlation: 0.22599638693025603\n",
      "P-value: 2.8911047936252053e-06\n"
     ]
    }
   ],
   "source": [
    "from scipy.stats import spearmanr\n",
    "\n",
    "# Calculate Spearman correlation between ROUGE-1 and COH\n",
    "corr, p_value = spearmanr(mover_scores, info)\n",
    "\n",
    "print(f\"Spearman correlation: {corr}\")\n",
    "print(f\"P-value: {p_value}\")"
   ]
  },
  {
   "cell_type": "code",
   "execution_count": null,
   "metadata": {
    "id": "o2ezgAunsk-n"
   },
   "outputs": [],
   "source": []
  }
 ],
 "metadata": {
  "accelerator": "GPU",
  "colab": {
   "gpuType": "T4",
   "provenance": []
  },
  "kernelspec": {
   "display_name": "Python 3",
   "name": "python3"
  },
  "language_info": {
   "name": "python"
  }
 },
 "nbformat": 4,
 "nbformat_minor": 0
}
